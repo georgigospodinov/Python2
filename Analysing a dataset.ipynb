{
 "cells": [
  {
   "cell_type": "markdown",
   "metadata": {
    "deletable": true,
    "editable": true
   },
   "source": [
    "<a id='overview'></a>\n",
    "# Overview\n",
    "The assignment asks to write a reproducable Jupyter Notebook to be used for data analysis. The sample data set used is the Census 2011 survey, saved in census2011.csv. We have implemented all basic requirements, as well as, all easy and medium extensions. We have also completed one hard extension - analysing a similar data set, which can be found in a separate Jupyter Notebook under Extra_DataSet_Analysis/American_Health_Payments_Analysis.<br>\n",
    "We have also implemented two extensions of our own. A general interactive plotter which can be used to plot various charts with filters. And a 'Contents' cell which can be used to jump to specific sections and the user can also easily jump back to it (instead of scrolling everytime).<br>\n",
    "Throughout the notebook, there are markdown cells explaining the purpose of the code cells and their relations to the requirements."
   ]
  },
  {
   "cell_type": "markdown",
   "metadata": {
    "deletable": true,
    "editable": true
   },
   "source": [
    "# Contents:\n",
    "<a href='#overview' style=\"font-size:28px;\">Overview</a><br>\n",
    "<a href='#contents' style=\"font-size:28px;\">Contents</a><br>\n",
    "<a href='#imports' style=\"font-size:28px;\">Imports</a><br>\n",
    "<a href='#declarations' style=\"font-size:28px;\">Declarations</a><br>\n",
    "----<a href='#vds' style=\"font-size:20px;\">Values in DataSet</a><br>\n",
    "----<a href='#vhr' style=\"font-size:20px;\">Values Human Readable</a><br>\n",
    "----<a href='#headers' style=\"font-size:20px;\">Headers</a><br>\n",
    "----<a href='#lists' style=\"font-size:20px;\">Lists</a><br>\n",
    "<a href='#readds' style=\"font-size:28px;\">Read Input Data Set</a><br>\n",
    "<a href='#refineds' style=\"font-size:28px;\">Refine Data Set</a><br>\n",
    "<a href='#desan' style=\"font-size:28px;\">Descriptive Analysis</a><br>\n",
    "----<a href='#rvhr' style=\"font-size:20px;\">Replace Values with Human Readable equivalent</a><br>\n",
    "----<a href='#pvdt' style=\"font-size:20px;\">Print Variable Data Type</a><br>\n",
    "----<a href='#pdesan' style=\"font-size:20px;\">Print Descriptive Analysis</a><br>\n",
    "<a href='#plots' style=\"font-size:28px;\">Plots</a><br>\n",
    "----<a href='#genplot' style=\"font-size:20px;\">General Plot function</a><br>\n",
    "----<a href='#pregion' style=\"font-size:20px;\">Bar Chart Records per Region</a><br>\n",
    "----<a href='#poccupation' style=\"font-size:20px;\">Bar Chart Records per Occupation</a><br>\n",
    "----<a href='#page' style=\"font-size:20px;\">Pie Chart Records per Age</a><br>\n",
    "----<a href='#pecon' style=\"font-size:20px;\">Pie Chart Records per Economic Activity</a><br>\n",
    "----<a href='#interact' style=\"font-size:20px;\">Interactive Plotting</a><br>\n",
    "<a href='#studdisc' style=\"font-size:28px;\">Student Discrepencies</a><br>\n",
    "<a href='#tables' style=\"font-size:28px;\">Tables</a><br>\n",
    "----<a href='#regind' style=\"font-size:20px;\">Region and Indsutry</a><br>\n",
    "----<a href='#occsoc' style=\"font-size:20px;\">Occupation and Social Grade</a><br>\n",
    "<a href='#plots3d' style=\"font-size:28px;\">3D Plots</a><br>\n",
    "----<a href='#regind3d' style=\"font-size:20px;\">3D Bar plot of Region and Industry</a><br>\n",
    "----<a href='#occsoc3d' style=\"font-size:20px;\">3D Bar plot of Occupation and Social Grade</a><br>\n",
    "<a href='#conclusion' style=\"font-size:28px;\">Conclusion</a><br>\n"
   ]
  },
  {
   "cell_type": "markdown",
   "metadata": {
    "deletable": true,
    "editable": true
   },
   "source": [
    "<a id='imports'></a>\n",
    "# Imports\n",
    "\n",
    "<a href='#overview'  style=\"font-size:10px;\">Back to top</a>"
   ]
  },
  {
   "cell_type": "code",
   "execution_count": null,
   "metadata": {
    "collapsed": false,
    "deletable": true,
    "editable": true,
    "scrolled": false
   },
   "outputs": [],
   "source": [
    "import warnings\n",
    "warnings.filterwarnings('ignore')\n",
    "\n",
    "import csv\n",
    "from pandas import DataFrame, read_csv\n",
    "import pandas as pd\n",
    "import matplotlib as mpl\n",
    "import matplotlib.pyplot as plt\n",
    "from textwrap import wrap\n",
    "import numpy as np\n",
    "from __future__ import print_function\n",
    "from ipywidgets import interact, interactive, fixed, interact_manual, Layout\n",
    "import ipywidgets as widgets\n",
    "import traitlets\n",
    "from IPython.display import display, HTML\n",
    "from matplotlib import rcParams\n",
    "rcParams.update({'figure.autolayout': True})\n",
    "from mpl_toolkits.mplot3d import Axes3D\n",
    "\n",
    "# Used to temporary store refined data. This file can be deleted after all the cells are ran.\n",
    "output_file_path = \"output.csv\"\n",
    "input_file_path = \"census2011.csv\""
   ]
  },
  {
   "cell_type": "markdown",
   "metadata": {
    "deletable": true,
    "editable": true
   },
   "source": [
    "<a id='declarations'></a>\n",
    "# Declarations\n",
    "<a id='vds'></a>\n",
    "## Lists of Values used in the Dataset\n",
    "Taken from the accompanying documenation. These are the values found in the input csv.\n",
    "\n",
    "<a href='#overview'  style=\"font-size:10px;\">Back to top</a>"
   ]
  },
  {
   "cell_type": "code",
   "execution_count": null,
   "metadata": {
    "collapsed": true,
    "deletable": true,
    "editable": true,
    "scrolled": true
   },
   "outputs": [],
   "source": [
    "region_list =           [\"E12000001\", \"E12000002\", \"E12000003\", \"E12000004\", \"E12000005\", \"E12000006\", \"E12000007\", \"E12000008\", \"E12000009\", \"W92000004\"]\n",
    "residence_list =        ['C', 'H']\n",
    "family_list =           [1, 2, 3, 4, 5, 6, -9]\n",
    "population_list =       [1, 2, 3]\n",
    "sex_list =              [1, 2]\n",
    "age_list =              [1, 2, 3, 4, 5, 6, 7, 8]\n",
    "marital_list =          [1, 2, 3, 4, 5]\n",
    "student_list =          [1, 2]\n",
    "country_list =          [1, 2, -9]\n",
    "health_list =           [1, 2, 3, 4, 5, -9]\n",
    "ethnic_list =           [1, 2, 3, 4, 5, -9]\n",
    "religion_list =         [1, 2, 3, 4, 5, 6, 7, 8, 9, -9]\n",
    "economic_list =         [1, 2, 3, 4, 5, 6, 7, 8, 9, -9]\n",
    "occupation_list =       [1, 2, 3, 4, 5, 6, 7, 8, 9, -9]\n",
    "industry_list =         [1, 2, 3, 4, 5, 6, 7, 8, 9, 10, 11, 12, -9]\n",
    "hours_list =            [1, 2, 3, 4, -9]\n",
    "socialGrade_list =      [1, 2, 3, 4, -9]"
   ]
  },
  {
   "cell_type": "markdown",
   "metadata": {
    "deletable": true,
    "editable": true
   },
   "source": [
    "<a id='vhr'></a>\n",
    "## Lists of categories human readable\n",
    "Taken from the accompanying documentation. These are the values to put on plots.\n",
    "\n",
    "<a href='#overview'  style=\"font-size:10px;\">Back to top</a>"
   ]
  },
  {
   "cell_type": "code",
   "execution_count": null,
   "metadata": {
    "collapsed": true,
    "deletable": true,
    "editable": true
   },
   "outputs": [],
   "source": [
    "region_list_readable =          [\"North East\", \"North West\", \"Yorkshire and the Humber\", \"East Midlands\", \"West Midlands\", \"East of England\", \"London\", \"South East\", \"South West\", \"Wales\"]\n",
    "residence_list_readable =       ['Resident in a communal establishment', 'Not resident in a communal establishment']\n",
    "family_list_readable =          [\"Not in a family\", \"Married/same-sex civil partnership couple family\", \"Cohabiting couple family\", \"Lone parent family (male head)\", \"Lone parent family (female head)\", \"Other related family\", \"No code required\"]\n",
    "population_list_readable =      [\"Usual resident\", \"Student living away from home during term-time\", \"Short-term resident\"]\n",
    "sex_list_readable =             [\"Male\", \"Female\"]\n",
    "age_list_readable =             [\"0 - 15\", \"16 - 24\", \"25 - 34\", \"35 - 44\", \"45 - 54\", \"55 - 64\", \"65 - 74\", \"75+\"]\n",
    "marital_list_readable =         [\"Single\", \"Married or in registered same-sex civil partnership\", \"Separated but still legally married/still legally in a same-sex civil partnership\", \"Divorced or formerly in a same-sex civil partnership which is now legally dissolved\", \"Widowed or surviving partner from a same-sex civil partnership\"]\n",
    "student_list_readable =         [\"Yes\", \"No\"]\n",
    "country_list_readable =         [\"UK\", \"Non UK\", \"No code required\"]\n",
    "health_list_readable =          [\"Very good health\", \"Good health\", \"Fair health\", \"Bad health\", \"Very bad health\", \"No code required\"]\n",
    "ethnic_list_readable =          [\"White\", \"Mixed\", \"Asian and Asian British\", \"Black or Black British\", \"Chinese or other ethnic group\", \"No code required\"]\n",
    "religion_list_readable =        [\"No religion\", \"Christian\", \"BuddhistEconomically\", \"Hindu\", \"Jewish\", \"Muslim\", \"Sikh\", \"Other religion\", \"Not stated\", \"No code required\"]\n",
    "economic_list_readable =        [\"Economically active: Employee\", \"Economically active: Self-employed\", \"Economically active: Unemployed\", \"Economically active: Full-time student\", \"Economically inactive: Retired\", \"Economically inactive: Student\", \"Economically inactive: Looking after home or family\", \"Economically inactive: Long-term sick or disabled\", \"Economically inactive: Other\", \"No code required\"]\n",
    "occupation_list_readable =      [\"Managers, Directors and Senior Officials\", \"Professional Occupations\", \"Associate Professional and Technical Occupations\", \"Administrative and Secretarial Occupations\", \"Skilled Trades Occupations\", \"Caring, Leisure and Other Service Occupations\", \"Sales and Customer Service Occupations\", \"Process, Plan and Machine Operatives\", \"Elementary Occupations\", \"No code required\"]\n",
    "industry_list_readable =        [\"Agriculture, forestry and fishing\", \"Mining and quarrying; Manufacturing\", \"Construction\", \"Wholesale and retail trade; Repair of motor vehicles and motorycycles\", \"Accommodation and food service activities\", \"Transport and storage; Information and communication\", \"Financial and insurance activities; Intermediation\", \"Real estate activities; Professional, scientific and technical activities; Administrative and support service activities\", \"Public administration and defence; compulsory social security\", \"Education\", \"Human health and social work activities\", \"Other community, social and personal service activities; Private households employing domestic staff; Extra-territorial organisations and bodies\", \"No code required\"]\n",
    "hours_list_readable =           [\"Part-time: 15 or less hours\", \"Part-time 16 - 20 hours\", \"Full-time: 31 - 48 hours\", \"Full-time: 49+ hours\", \"No code required\"]\n",
    "socialGrade_list_readable =     [\"AB\", \"C1\", \"C2\", \"DE\", \"No code required\"]"
   ]
  },
  {
   "cell_type": "markdown",
   "metadata": {
    "deletable": true,
    "editable": true
   },
   "source": [
    "<a id='headers'></a>\n",
    "## Headers/Variable Names used in the Dataset\n",
    "These form the header of the input file and are used to search and analyse the data using pandas.\n",
    "\n",
    "<a href='#overview'  style=\"font-size:10px;\">Back to top</a>"
   ]
  },
  {
   "cell_type": "code",
   "execution_count": null,
   "metadata": {
    "collapsed": true,
    "deletable": true,
    "editable": true
   },
   "outputs": [],
   "source": [
    "personId = 'Person ID'\n",
    "region = 'Region'\n",
    "residence = 'Residence Type'\n",
    "family = 'Family Composition'\n",
    "population = 'Population Base'\n",
    "sex = 'Sex'\n",
    "age = 'Age'\n",
    "marital = 'Marital Status'\n",
    "student = 'Student'\n",
    "country = 'Country of Birth'\n",
    "health = 'Health'\n",
    "ethnic = 'Ethnic Group'\n",
    "religion = 'Religion'\n",
    "economic = 'Economic Activity'\n",
    "occupation = 'Occupation'\n",
    "industry = 'Industry'\n",
    "hours = 'Hours worked per week'\n",
    "socialGrade = 'Approximated Social Grade'"
   ]
  },
  {
   "cell_type": "markdown",
   "metadata": {
    "deletable": true,
    "editable": true
   },
   "source": [
    "<a id='lists'></a>\n",
    "## Lists\n",
    "Used for easier iteration through headers/variable names.\n",
    "\n",
    "<a href='#overview'  style=\"font-size:10px;\">Back to top</a>"
   ]
  },
  {
   "cell_type": "code",
   "execution_count": null,
   "metadata": {
    "collapsed": true,
    "deletable": true,
    "editable": true
   },
   "outputs": [],
   "source": [
    "# Lists containing all the above for easy iterations.\n",
    "header_list = [region, residence, family, population, sex, age, marital, student,\n",
    "                country, health, ethnic, religion, economic, occupation, industry,\n",
    "                hours, socialGrade]\n",
    "\n",
    "variable_list = [region_list, residence_list, family_list, population_list, sex_list, age_list,\n",
    "                marital_list, student_list, country_list, health_list,\n",
    "                ethnic_list, religion_list, economic_list, occupation_list,\n",
    "                industry_list, hours_list, socialGrade_list]\n",
    "\n",
    "variable_list_readable = [region_list_readable, residence_list_readable,\n",
    "                family_list_readable, population_list_readable, sex_list_readable,\n",
    "                age_list_readable, marital_list_readable, student_list_readable,\n",
    "                country_list_readable, health_list_readable,ethnic_list_readable,\n",
    "                religion_list_readable, economic_list_readable, occupation_list_readable,\n",
    "                industry_list_readable, hours_list_readable, socialGrade_list_readable]"
   ]
  },
  {
   "cell_type": "markdown",
   "metadata": {
    "deletable": true,
    "editable": true
   },
   "source": [
    "<a id='readds'></a>\n",
    "# Reading the Input File using Pandas\n",
    "<a href='#overview'  style=\"font-size:10px;\">Back to top</a>"
   ]
  },
  {
   "cell_type": "code",
   "execution_count": null,
   "metadata": {
    "collapsed": false,
    "deletable": true,
    "editable": true
   },
   "outputs": [],
   "source": [
    "dataSet = pd.read_csv(input_file_path, header=0)"
   ]
  },
  {
   "cell_type": "markdown",
   "metadata": {
    "deletable": true,
    "editable": true
   },
   "source": [
    "<a id='refineds'></a>\n",
    "# Refining the Dataset\n",
    "Function checks that the dataset matches the specifications described in the accompanying documentation. In case of any inconsistencies found, a new file with refined data is produced and returned to be used in the\n",
    "subsequent analysis.\n",
    "\n",
    "<a href='#overview'  style=\"font-size:10px;\">Back to top</a>"
   ]
  },
  {
   "cell_type": "code",
   "execution_count": null,
   "metadata": {
    "collapsed": false,
    "deletable": true,
    "editable": true
   },
   "outputs": [],
   "source": [
    "def refine_dataset(dataSet):\n",
    "    \"\"\"\n",
    "        Refines the dataset as required by the specification.\n",
    "\n",
    "        :param DataFrame dataSet: The DataFrame to refine\n",
    "        :return: refined dataSet\n",
    "        :rtype: DataFrame\n",
    "    \"\"\"\n",
    "    \n",
    "    newDS = dataSet.copy(deep=True)\n",
    "    \n",
    "    # Drop rows with invalid number of variables\n",
    "    newDS.dropna(how='any')\n",
    "\n",
    "    # Drop all duplicate personal IDs\n",
    "    newDS.drop_duplicates(keep='first', inplace=True)          # Drop identical records.\n",
    "    newDS.drop_duplicates(personId, keep=False, inplace=True)  # Drop records that have duplicate IDs.\n",
    "\n",
    "    # Drop all Columns with headers not included in the header list\n",
    "    for i in newDS.ix[:, newDS.columns != personId]:\n",
    "        try:\n",
    "            headerIndex = header_list.index(i)\n",
    "            currentList = variable_list[headerIndex]\n",
    "            newDS = newDS[newDS[i].isin(currentList)]\n",
    "        except ValueError:  # When column i is not recognized.\n",
    "            newDS.drop(i, axis=1, inplace=True)\n",
    "            print(\"Column ignored:\"+i)\n",
    "\n",
    "    # Write updated dataset to file if changed.\n",
    "    if(not dataSet.equals(newDS)):\n",
    "        newDS.to_csv(output_file_path);\n",
    "\n",
    "    return newDS\n",
    "\n",
    "dataSet = refine_dataset(dataSet)"
   ]
  },
  {
   "cell_type": "markdown",
   "metadata": {
    "deletable": true,
    "editable": true
   },
   "source": [
    "<a id='desan'></a>\n",
    "# Descriptive Analysis\n",
    "<a id='rvhr'></a>\n",
    "## Replace all values with their human readable equivalent\n",
    "Function creates a new DataFrame with all catagory codes replaced with their human readable equivalent. This new dataset is used for plotting as labels and descriptions will be clearer and more meaningful.\n",
    "\n",
    "<a href='#overview'  style=\"font-size:10px;\">Back to top</a>"
   ]
  },
  {
   "cell_type": "code",
   "execution_count": null,
   "metadata": {
    "collapsed": false,
    "deletable": true,
    "editable": true,
    "scrolled": true
   },
   "outputs": [],
   "source": [
    "def readable_data(dataSet):\n",
    "    \"\"\"\n",
    "        Takes dataSet and given two lists of data codes and equivalent readable\n",
    "        strings where a data code's index matches the readable index will\n",
    "        return a DataFrame where all codes have been replaced with their human\n",
    "        readable equivalent\n",
    "\n",
    "        :param DataFrame dataSet: The DataFrame to be made readable\n",
    "        :return: readable equivalent of given DataFrame\n",
    "        :rtype: DataFrame\n",
    "    \"\"\"\n",
    "    # Uses a new copy of the dataset\n",
    "    readableDataSet = dataSet.copy()\n",
    "\n",
    "    variables_contained = []  # Stores the variables that the dataset contains.\n",
    "    # Looping all the headers except the person id\n",
    "    for i in readableDataSet.ix[:, dataSet.columns != personId]:\n",
    "        variables_contained.append(i)\n",
    "        headerIndex = header_list.index(i)\n",
    "        currentList = variable_list[headerIndex]\n",
    "        currentReadableList = variable_list_readable[headerIndex]\n",
    "        readableDataSet[i].replace(currentList, currentReadableList, inplace = True)\n",
    "        \n",
    "    for var in header_list:\n",
    "        if var not in variables_contained:\n",
    "            print(\"Could not find \\'\" + var + \"\\' in input set.\")\n",
    "            \n",
    "    return readableDataSet\n",
    "\n",
    "readableDataSet = readable_data(dataSet)"
   ]
  },
  {
   "cell_type": "markdown",
   "metadata": {
    "deletable": true,
    "editable": true
   },
   "source": [
    "<a id='pvdt'></a>\n",
    "## Print Variable Data Type\n",
    "Determines and prints the type of a given variable. Types recognized are 'number', 'range of numbers', or 'binary'. Anything else is considered 'keywords'.\n",
    "\n",
    "<a href='#overview'  style=\"font-size:10px;\">Back to top</a>"
   ]
  },
  {
   "cell_type": "code",
   "execution_count": null,
   "metadata": {
    "collapsed": true,
    "deletable": true,
    "editable": true
   },
   "outputs": [],
   "source": [
    "def print_data_type(header_name):\n",
    "    \"\"\"\n",
    "        Determines and prints the type of a given variable.\n",
    "        Types recognized are \n",
    "            'number'            : eg. -9 \n",
    "            'range of numbers'  : eg. \"0-15\"\n",
    "            'boolean'           : eg. \"male\"/\"female\"\n",
    "            'string'            : eg. \"E12000001\"\n",
    "        \n",
    "        :param String header_name: The name of the variable in the list of headers.\n",
    "    \"\"\"\n",
    "    readable_list = variable_list_readable[header_list.index(header_name)]\n",
    "    \n",
    "    isNumbers = True\n",
    "    for i in readable_list:\n",
    "        try:\n",
    "            float(i)\n",
    "        except:\n",
    "            isNumbers = False\n",
    "            \n",
    "    if isNumbers:\n",
    "        print(\"Data type: Number\")\n",
    "        return\n",
    "            \n",
    "    isRanges = True\n",
    "    for i in range(len(readable_list)-2):\n",
    "        if is_range(readable_list[i]) == False:\n",
    "            isRanges = False\n",
    "            break\n",
    "        \n",
    "    if isRanges:  # Last element can be [x-y] or [x+]\n",
    "        s = readable_list[len(readable_list)-1]\n",
    "        if is_range(s) == False:\n",
    "            spl = s.split('+')\n",
    "            if len(spl) != 2:\n",
    "                isRanges = False\n",
    "            else:\n",
    "                if len(spl[1].strip()) != 0:  # The right of the plus should be empty.\n",
    "                    isRanges = False\n",
    "                else:\n",
    "                    try:\n",
    "                        float(spl[0])\n",
    "                    except:\n",
    "                        isRanges = False\n",
    "                \n",
    "    if isRanges:\n",
    "        print(\"Data type: Range of Numbers.\")\n",
    "        return\n",
    "        \n",
    "    if len(readable_list) == 2:\n",
    "        print(\"Data type: Boolean.\")\n",
    "        return\n",
    "    \n",
    "    print(\"Data type: String.\")\n",
    "    \n",
    "def is_range(string_to_check):\n",
    "    spl = string_to_check.split('-')\n",
    "    if len(spl) != 2:\n",
    "        return False\n",
    "    else:\n",
    "        try:\n",
    "            float(spl[0])\n",
    "            float(spl[1])\n",
    "            return True\n",
    "        except:\n",
    "            return False"
   ]
  },
  {
   "cell_type": "markdown",
   "metadata": {
    "deletable": true,
    "editable": true
   },
   "source": [
    "<a id='pdesan'></a>\n",
    "## Print Descriptive Analysis\n",
    "From the specification:\n",
    "\n",
    "Function performs a descriptive analysis of the dataset that\n",
    " * *determines the total number of records in the dataset*\n",
    " * *determines the type of each variable in the dataset*\n",
    " * *for each variable except “Person ID”, finds all values that it takes, and the number of occurrences for each value*\n",
    " \n",
    "<a href='#overview'  style=\"font-size:10px;\">Back to top</a>"
   ]
  },
  {
   "cell_type": "code",
   "execution_count": null,
   "metadata": {
    "collapsed": false,
    "deletable": true,
    "editable": true,
    "scrolled": true
   },
   "outputs": [],
   "source": [
    "def descriptive_analysis(dataSet):\n",
    "    \"\"\"\n",
    "        Prints the number of records in a dataSet\n",
    "        the type of each varaible\n",
    "        and the occurrences of each unique value\n",
    "        \n",
    "        :param DataFrame dataSet: The DataFrame to print stats for\n",
    "    \"\"\"\n",
    "    \n",
    "    print(\"\\nNumber of records: \" + str(len(dataSet)) + \"\\n\")\n",
    "    \n",
    "    # Removes the coloumn 'person id' from dataset\n",
    "    droppedSet = dataSet.drop(personId, axis=1)\n",
    "    for headerName in droppedSet:\n",
    "        # Gets group for current header\n",
    "        group = droppedSet.groupby(headerName)\n",
    "\n",
    "        # Print number of occurrences of each variable\n",
    "        print(group.size())\n",
    "        print_data_type(headerName)\n",
    "        print(\"\\n\")\n",
    "\n",
    "descriptive_analysis(readableDataSet)"
   ]
  },
  {
   "cell_type": "markdown",
   "metadata": {
    "deletable": true,
    "editable": true
   },
   "source": [
    "<a id='plots'></a>\n",
    "# Plots\n",
    "Relates to **basic requirement 3** and **medium extension 2** as ipywidgets are used to control plot properties.\n",
    "\n",
    "<a id='genplot'></a>\n",
    "## General Plotting Function\n",
    "This function is uses matplotlib and pandas to plot any data, headers and filters given. Plots the number of entries in the **dataSet** for a given **header** in a matplotlib plot of type **plt_type** using the given **axis**. The **title** provided is used also to construct the file-name when saving the plot. All the filters given in ***args** are applied using the pandas *isin()* function\n",
    "\n",
    "<a href='#overview'  style=\"font-size:10px;\">Back to top</a>"
   ]
  },
  {
   "cell_type": "code",
   "execution_count": null,
   "metadata": {
    "collapsed": false,
    "deletable": true,
    "editable": true
   },
   "outputs": [],
   "source": [
    "# ensures plot will be shown in the jupyter notebook\n",
    "%matplotlib notebook \n",
    "\n",
    "def plot_distribution_by_header(dataSet, header, plt_type, title, axis, *args):\n",
    "    \"\"\"\n",
    "        Takes dataSet and then plots the distribution of given header\n",
    "\n",
    "        :param DataFrame dataSet: The DataFrame to be plotted\n",
    "        :param String header:     The header to plot\n",
    "        :param String plt_type:   The type of plot (eg. \"pie\", \"bar\", etc)\n",
    "        :param String title:      The plot title\n",
    "        :param Axis axis:         The matplotlib axis to use\n",
    "        :param *args              - each arg should be a touple of (filter_name, [filter_selection])\n",
    "    \"\"\"\n",
    "    hd = str(header)\n",
    "    pt = str(plt_type)\n",
    "    tt = '\\n'.join(wrap(str(title), 100))   # wrap long titles\n",
    "    \n",
    "    # filter dataset with filters provided in args\n",
    "    for arg in args:\n",
    "        dataSet = (dataSet[dataSet[arg[0]].isin(arg[1])])    \n",
    "    \n",
    "    # plot dataset and do per plot-type formatting\n",
    "    if(pt == \"pie\"):\n",
    "        dataSet[hd].value_counts().plot(ax=axis, kind=pt, autopct='%1.0f%%', pctdistance=0.8)\n",
    "                                            # plots with % labels on pie chart slices\n",
    "        axis.axis('equal')                  # Equal aspect ratio ensures that pie is drawn as a circle.\n",
    "        axis.axis('off')                    # switches axis labels off\n",
    "    if(pt == \"bar\") :\n",
    "        \n",
    "        dataSet[hd].value_counts().plot(ax=axis, kind=pt)\n",
    "        axis.axis('auto')                   # resets axis labels back to auto\n",
    "        axis.axis('on')\n",
    "        plt.xticks(rotation=65, ha='right') # sets rotation and offset\n",
    "        axis.set_xlabel(hd)\n",
    "        axis.set_ylabel(\"Number of Records\")\n",
    "    if(pt == \"hist\"):\n",
    "        n, bins, patches = plt.hist(dataSet[hd].value_counts(), 50, normed=1, facecolor='green', alpha=0.75)\n",
    "    \n",
    "    # adding padding beneath the plot title\n",
    "    plt.title(tt, y=1.06)\n",
    "    \n",
    "    # wrapping of long axis labels\n",
    "    oldXLabels = [ x.get_text() for x in axis.get_xticklabels() ]\n",
    "    xLabels = [ '\\n'.join(wrap(l, 30)) for l in oldXLabels ]\n",
    "    axis.set_xticklabels(xLabels)\n",
    "    \n",
    "    #plt.tight_layout()\n",
    "    \n",
    "    # saving figure to file - all spaces replaced with '_'\n",
    "    plt.savefig('Visualisations/' + title.replace(\" \", \"_\") + '.png', bbox_inches='tight')\n",
    "    \n",
    "    # show plot in notebook\n",
    "    plt.show()"
   ]
  },
  {
   "cell_type": "markdown",
   "metadata": {
    "deletable": true,
    "editable": true
   },
   "source": [
    "<a id='pregion'></a>\n",
    "## Bar Chart for the Number of Records for each Region\n",
    "This bar chart uses the function *plot_distribution_by_header()* and matplotlib to plot the number of records per region using the human-readable dataset. The resulting figure is also saved in the 'Visualisations' folder.\n",
    "\n",
    "<a href='#overview'  style=\"font-size:10px;\">Back to top</a>"
   ]
  },
  {
   "cell_type": "code",
   "execution_count": null,
   "metadata": {
    "collapsed": false,
    "deletable": true,
    "editable": true,
    "scrolled": false
   },
   "outputs": [],
   "source": [
    "fig, axis = plt.subplots(figsize=(9, 7))\n",
    "plot_distribution_by_header(readableDataSet, region, 'bar', \"Distribution of Records per Region\", axis)"
   ]
  },
  {
   "cell_type": "markdown",
   "metadata": {
    "deletable": true,
    "editable": true
   },
   "source": [
    "<a id='poccupation'></a>\n",
    "## Bar Chart for the Number of Records for each Occupation\n",
    "Again, this graph uses the function *plot_distribution_by_header()* and matplotlib to plot the distribution of records per occupation. \n",
    "\n",
    "<a href='#overview'  style=\"font-size:10px;\">Back to top</a>"
   ]
  },
  {
   "cell_type": "code",
   "execution_count": null,
   "metadata": {
    "collapsed": false,
    "deletable": true,
    "editable": true
   },
   "outputs": [],
   "source": [
    "fig, axis = plt.subplots(figsize=(9, 7))\n",
    "plot_distribution_by_header(readableDataSet, occupation, 'bar', \"Distribution of Records per Occupation\", axis)"
   ]
  },
  {
   "cell_type": "markdown",
   "metadata": {
    "deletable": true,
    "editable": true
   },
   "source": [
    "<a id='page'></a>\n",
    "## Pie Chart for the Distribution of the Sample by Age\n",
    "\n",
    "<a href='#overview'  style=\"font-size:10px;\">Back to top</a>"
   ]
  },
  {
   "cell_type": "code",
   "execution_count": null,
   "metadata": {
    "collapsed": false,
    "deletable": true,
    "editable": true
   },
   "outputs": [],
   "source": [
    "fig, axis = plt.subplots(figsize=(9, 7))\n",
    "plot_distribution_by_header(readableDataSet, age, 'pie', \"Distribution of Records per Age Group\", axis)"
   ]
  },
  {
   "cell_type": "markdown",
   "metadata": {
    "deletable": true,
    "editable": true
   },
   "source": [
    "<a id='pecon'></a>\n",
    "## Pie Chart for the Distribution of the Sample by the Economic Activity\n",
    "\n",
    "<a href='#overview'  style=\"font-size:10px;\">Back to top</a>"
   ]
  },
  {
   "cell_type": "code",
   "execution_count": null,
   "metadata": {
    "collapsed": false,
    "deletable": true,
    "editable": true,
    "scrolled": false
   },
   "outputs": [],
   "source": [
    "fig, axis = plt.subplots(figsize=(9, 7))\n",
    "plot_distribution_by_header(readableDataSet, economic, 'pie', \"Distribution of Records per Economic Activity\", axis)"
   ]
  },
  {
   "cell_type": "markdown",
   "metadata": {
    "deletable": true,
    "editable": true
   },
   "source": [
    "<a id='interact'></a>\n",
    "## Interactive Ploting\n",
    "Relates to Extensions **Easy 2** and **Medium 2** as well as our own **custom extension**  \n",
    "\n",
    "This cell allows the user to create their own plots using ipywidget controls. The general plotting function *plot_distribution_by_header()* is used.  \n",
    "Ipywidgets:\n",
    "- all widgets are enclosed in HBox or VBox for consistent formatting and grouping\n",
    "- to make the 'update' button always the last widget in the controls, it gets deleted and a new button added everytime a filter is added or removed\n",
    "- filter widgets are added to the lists *filter_boxes*, *filter_selector_widgets*, *value_selector_widgets* to allow later deletion of widgets as well as easy looping to use their values\n",
    "- Ipywidgets events are used to dynamically update the filter-values list when selecting a header to filter\n",
    "- try-catch clauses are used whenever closing or deleting widgets as this facilitates the cases when lists are empty (no filters added yet) \n",
    "\n",
    "The *makeTitle()* function creates a plot title from the header and filter arguments. If a filter in the arguments has all its values selected, then it is ignored in the title, as this is the same as ignoring it when plotting.\n",
    "\n",
    "<a href='#overview'  style=\"font-size:10px;\">Back to top</a>"
   ]
  },
  {
   "cell_type": "code",
   "execution_count": null,
   "metadata": {
    "collapsed": false,
    "deletable": true,
    "editable": true,
    "scrolled": false
   },
   "outputs": [],
   "source": [
    "fig, axis = plt.subplots(figsize=(9, 7))\n",
    "\n",
    "# lists storing filter widgets\n",
    "filter_boxes = []\n",
    "filter_selector_widgets = []\n",
    "value_selector_widgets = []\n",
    "\n",
    "def makeTitle(header, *args):\n",
    "    \"\"\"\n",
    "        Function makes a human readable title from the header and filters provided. \n",
    "        Format:\n",
    "            \"Distribution of Records by <header> (for the <header> [<value>, ...] (and \n",
    "                the <header> [<value>, ...]), ...)\n",
    "        \n",
    "        :return: The title to put\n",
    "        :rtype: string\n",
    "    \"\"\"\n",
    "    ret = \"Distribution of Records by \" + header\n",
    "    a = 0\n",
    "    for arg in args:\n",
    "        i = header_list.index(arg[0])\n",
    "        allValues = variable_list_readable[i]\n",
    "        if(len(arg[1]) > 0 and len(arg[1]) < len(allValues)):\n",
    "            if(a>0):\n",
    "                ret += \" and\"\n",
    "            else:\n",
    "                ret += \" for\"\n",
    "        if((len(arg[1]) > 1) and (len(arg[1]) < len(allValues))):\n",
    "            ret += \" the \" + arg[0] + \"[s] \"\n",
    "            i = 0\n",
    "            for item in arg[1]:\n",
    "                if(i>0):\n",
    "                    ret+= \",\"\n",
    "                ret += \" '\" + item + \"'\"\n",
    "                i += 1\n",
    "        elif(len(arg[1]) == 1):\n",
    "            ret += \" the \" + arg[0] + \" '\" + arg[1][0] + \"'\"\n",
    "        a += 1\n",
    "    return ret\n",
    "\n",
    "def update(b):\n",
    "    \"\"\"\n",
    "        Called when \"Update\" is clicked. Clears previous and draws new plot. \n",
    "        Calls plot_distribution_by_header() with user selection.\n",
    "    \"\"\"\n",
    "    axis.clear()\n",
    "    filters = []\n",
    "    for (f,s) in zip(filter_selector_widgets, value_selector_widgets):\n",
    "        filters.append((f.value, s.value))\n",
    "    plt_title = makeTitle(headerSelector.value, *filters);\n",
    "    try:\n",
    "        plot_distribution_by_header(readableDataSet, headerSelector.value, pltSelector.value, plt_title, axis, *filters)\n",
    "    except:\n",
    "        print(\"Plotting failed! Common error: conflicting filters!\")\n",
    "\n",
    "def removeFilter(b):\n",
    "    \"\"\"\n",
    "        Called when \"Remove Filter\" is clicked. Tries to remove the last \n",
    "        set of filters in the lists.\n",
    "    \"\"\"\n",
    "    try:\n",
    "        filter_selector_widgets[-1].close()\n",
    "        del filter_selector_widgets[-1]\n",
    "        value_selector_widgets[-1].close()\n",
    "        del value_selector_widgets[-1]\n",
    "        filter_boxes[-1].close()\n",
    "        del filter_boxes[-1]\n",
    "    except:\n",
    "        pass\n",
    "    \n",
    "def addFilter(b):\n",
    "    \"\"\"\n",
    "        Called when \"Add Filter\" is clicked. Adds 2 new Selectors to the Controls.\n",
    "    \"\"\"\n",
    "    \n",
    "    # selector widget to chose header\n",
    "    filter_selector_widget = widgets.Select(\n",
    "        options=header_list,\n",
    "        value=header_list[0],\n",
    "        description='Header to filter:')\n",
    "    \n",
    "    # multi-selector widget to chose values\n",
    "    value_selector_widget = widgets.SelectMultiple(\n",
    "        options=variable_list_readable[0],\n",
    "        value=[variable_list_readable[0][0]],\n",
    "        description='Filter:')\n",
    "    \n",
    "    # handler function which updates the value_selector_widget\n",
    "    def handle_chose(sender):\n",
    "        \"\"\"\n",
    "            Called when a value in filter_selector_widget is clicked. Updates the \n",
    "            value_selector_widget.\n",
    "        \"\"\"\n",
    "        i = header_list.index(filter_selector_widget.value)\n",
    "        value_selector_widget.options=variable_list_readable[i]\n",
    "        value_selector_widget.value=[variable_list_readable[i][0]]\n",
    "    \n",
    "    # register handler function\n",
    "    filter_selector_widget.observe(handle_chose, names='value')\n",
    "    \n",
    "    # make vertival box for formatting\n",
    "    filterControls = widgets.VBox([filter_selector_widget, value_selector_widget])\n",
    "    \n",
    "    # add widgets to list of all widgets\n",
    "    filter_selector_widgets.append(filter_selector_widget)\n",
    "    value_selector_widgets.append(value_selector_widget)\n",
    "    filter_boxes.append(filterControls)\n",
    "\n",
    "    # make new submit button and remove old ones\n",
    "    global submit_new\n",
    "    try:\n",
    "        submit_new.close()\n",
    "        submit.close()\n",
    "        submitControl.close()\n",
    "        submitControl_new.close()\n",
    "    except:\n",
    "        pass\n",
    "    \n",
    "    submit_new = widgets.Button(description=\"Update\")\n",
    "    submit_new.style.button_color = 'rosybrown'\n",
    "    submit_new.on_click(update)\n",
    "    submitControl_new = widgets.HBox([submit_new])\n",
    "    display(filterControls, submitControl_new)\n",
    "\n",
    "# control title\n",
    "caption = widgets.Label(\n",
    "    value='Interactive Plot Creator:',\n",
    "    layout=Layout(width='160px'))\n",
    "\n",
    "# plot type selector\n",
    "pltSelector = widgets.Select(\n",
    "    options=[\"pie\", \"bar\", \"hist\"],\n",
    "    value=\"pie\",\n",
    "    description='Plot Type:')\n",
    "\n",
    "# header selector\n",
    "headerSelector = widgets.Select(\n",
    "    options=header_list,\n",
    "    value=header_list[0],\n",
    "    layout=Layout(color='#000000'),\n",
    "    description='What to plot:')\n",
    "\n",
    "pltControls = widgets.VBox([caption, pltSelector, headerSelector])\n",
    "\n",
    "# 'add filter' button\n",
    "addFilterButton = widgets.Button(description=\"Add Filter\")\n",
    "addFilterButton.style.button_color = 'forestgreen'\n",
    "addFilterButton.on_click(addFilter)\n",
    "\n",
    "# 'remove filter' button\n",
    "removeFilterButton = widgets.Button(description=\"Remove Filter\")\n",
    "removeFilterButton.style.button_color = 'red'\n",
    "removeFilterButton.on_click(removeFilter)\n",
    "filterControls = widgets.HBox([addFilterButton, removeFilterButton])\n",
    "\n",
    "# 'submit' button\n",
    "submit = widgets.Button(description=\"Update\")\n",
    "submit.style.button_color = 'rosybrown'\n",
    "submit.on_click(update)\n",
    "submitControl = widgets.HBox([submit])\n",
    "\n",
    "# display widgets\n",
    "display(pltControls, filterControls, submitControl)"
   ]
  },
  {
   "cell_type": "markdown",
   "metadata": {
    "deletable": true,
    "editable": true
   },
   "source": [
    "<a id='studdisc'></a>\n",
    "# Student Discrepancies\n",
    "Relates to **Extension Easy 2** \n",
    "\n",
    "Prints whether there are any discrepancies between the student status given as a yes/no answer to the question “Student (Schoolchild or full-time student)” and answers on the question on “Economic activity”.\n",
    "\n",
    "<a href='#overview'  style=\"font-size:10px;\">Back to top</a>"
   ]
  },
  {
   "cell_type": "code",
   "execution_count": null,
   "metadata": {
    "collapsed": false,
    "deletable": true,
    "editable": true
   },
   "outputs": [],
   "source": [
    "def print_student_discrepancies(dataSet):\n",
    "    \"\"\"\n",
    "        Takes dataSet and prints difference between student numbers\n",
    "        and student-based economic activity\n",
    "\n",
    "        :param DataFrame dataSet: The DataFrame to be plotted\n",
    "    \"\"\"\n",
    "    economicStudentDataSet = dataSet[(dataSet[economic] == economic_list_readable[3])\n",
    "                      | (dataSet[economic] == economic_list_readable[5])]\n",
    "\n",
    "    identifiedStudentDataSet = dataSet[dataSet[student] == student_list_readable[0]]\n",
    "    \n",
    "    sizeEconomic = len(identifiedStudentDataSet)\n",
    "    sizeStudent = len(economicStudentDataSet)\n",
    "\n",
    "    if(sizeEconomic > sizeStudent):\n",
    "        print(\"More economically identified students - discrepancy of \" + str(sizeEconomic - sizeStudent) + \" records.\")\n",
    "    elif(sizeEconomic < sizeStudent):\n",
    "        print(\"More student identified students - discrepancy of \" + str(sizeStudent - sizeEconomic) + \" records.\")\n",
    "    else:\n",
    "        print(\"No discrepancy found\")\n",
    "\n",
    "print_student_discrepancies(readableDataSet)"
   ]
  },
  {
   "cell_type": "markdown",
   "metadata": {
    "deletable": true,
    "editable": true
   },
   "source": [
    "<a id='tables'></a>\n",
    "# Tables when using Pandas *groupby()*\n",
    "Relates to **Extension Easy 1**\n",
    "<a id='regind'></a>\n",
    "## Number of Records by Region and Industry\n",
    "<a href='#overview'  style=\"font-size:10px;\">Back to top</a>"
   ]
  },
  {
   "cell_type": "code",
   "execution_count": null,
   "metadata": {
    "collapsed": false,
    "deletable": true,
    "editable": true,
    "scrolled": true
   },
   "outputs": [],
   "source": [
    "reg_ind = readableDataSet.groupby([region, industry])\n",
    "reg_ind.size()  # Does not produce full table. Prints '...' to avoid writing too much."
   ]
  },
  {
   "cell_type": "markdown",
   "metadata": {
    "deletable": true,
    "editable": true
   },
   "source": [
    "<a id='occsoc'></a>\n",
    "## Number of Records by Occupation and Social grade\n",
    "<a href='#overview'  style=\"font-size:10px;\">Back to top</a>"
   ]
  },
  {
   "cell_type": "code",
   "execution_count": null,
   "metadata": {
    "collapsed": false,
    "deletable": true,
    "editable": true,
    "scrolled": true
   },
   "outputs": [],
   "source": [
    "occ_soc = readableDataSet.groupby([occupation, socialGrade])\n",
    "occ_soc.size()"
   ]
  },
  {
   "cell_type": "markdown",
   "metadata": {
    "deletable": true,
    "editable": true
   },
   "source": [
    "<a id='plots3d'></a>\n",
    "# 3D Plots\n",
    "Relates to Extension **Medium 1**\n",
    "\n",
    "Function produces a 3d bar plot using matplotlib3d. It takes two lists containing the x and y labels as well as a 1d array table containing the number of records for each pair of labels in the lists. Also takes a plot title which is also used when saving the figures.\n",
    "\n",
    "<a href='#overview'  style=\"font-size:10px;\">Back to top</a>"
   ]
  },
  {
   "cell_type": "code",
   "execution_count": null,
   "metadata": {
    "collapsed": false,
    "deletable": true,
    "editable": true
   },
   "outputs": [],
   "source": [
    "def plot3d(table, listy, listx, title):\n",
    "    \"\"\"\n",
    "        Produces a 3D Bar plot from the given table and saves it in a specified file.\n",
    "        \n",
    "        :param table list         : a one diminsional list of values\n",
    "            it's length must be the product of the lengths of the next two arguments\n",
    "        :param listy list         : the values from this list will be put as ticks on the y-axis\n",
    "        :param listx list         : the values from this list will be put as ticks on the x-axis\n",
    "        :param outputfilename str : the path to the file where the produced figure should be saved\n",
    "    \"\"\"\n",
    "    tt = '\\n'.join(wrap(str(title), 100))   # wrap long titles\n",
    "\n",
    "    # create deep copies and sort lists alphabetically\n",
    "    ly_cpy = [y for y in listy]\n",
    "    ly_cpy.sort()\n",
    "    ly_len = len(ly_cpy)\n",
    "    lx_cpy = [x for x in listx]\n",
    "    lx_cpy.sort()\n",
    "    lx_len = len(lx_cpy)\n",
    "    \n",
    "    # make 3d plot\n",
    "    fig = plt.figure()\n",
    "    ax = fig.add_subplot(111, projection='3d')\n",
    "    plt.title(tt, y=1.04)\n",
    "    \n",
    "    # Iterate the table in ly_len chuncks of size lx_len.\n",
    "    for i in range(ly_len):\n",
    "        # make bar graph for every chunk\n",
    "        ax.bar(range(lx_len), table[(i*lx_len):(i*lx_len+lx_len)], zs=i, zdir='y', color=mpl.rcParams['axes.color_cycle'][i%len(mpl.rcParams['axes.color_cycle'])])\n",
    "\n",
    "    # Sets the number of ticks\n",
    "    plt.locator_params(axis='x', nticks=lx_len)\n",
    "    plt.locator_params(axis='y', nticks=ly_len)\n",
    "\n",
    "    # Assign and align tick labels.\n",
    "    ax.set_xticklabels(lx_cpy, rotation=30, va='top', ha='right')\n",
    "    ax.set_yticklabels(ly_cpy, rotation=-15, va='top', ha='left')\n",
    "\n",
    "    # Make the figure larger, so that all the labels fit.\n",
    "    fig.tight_layout()\n",
    "\n",
    "    ax.set_zlabel(\"Number of Records\")\n",
    "    # puts the Z labels on the left (switches two pairs of planes)\n",
    "    # from http://stackoverflow.com/questions/25068666/label-manipulation-for-3d-plot-using-matplotlib\n",
    "    tmp_planes = ax.zaxis._PLANES \n",
    "    ax.zaxis._PLANES = ( tmp_planes[2], tmp_planes[3], \n",
    "                         tmp_planes[0], tmp_planes[1], \n",
    "                         tmp_planes[4], tmp_planes[5])\n",
    "\n",
    "    # save\n",
    "    fig.savefig('Visualisations/' + title.replace(\" \", \"_\") + '.png', bbox_inches='tight')"
   ]
  },
  {
   "cell_type": "markdown",
   "metadata": {
    "deletable": true,
    "editable": true
   },
   "source": [
    "<a id='regind3d'></a>\n",
    "## Distribution of Records by Region and Industry\n",
    "<a href='#overview'  style=\"font-size:10px;\">Back to top</a>"
   ]
  },
  {
   "cell_type": "code",
   "execution_count": null,
   "metadata": {
    "collapsed": false,
    "deletable": true,
    "editable": true,
    "scrolled": false
   },
   "outputs": [],
   "source": [
    "plot3d(reg_ind.size(), region_list_readable, industry_list_readable,\n",
    "       \"Distribution of Records by Region and Industry\")"
   ]
  },
  {
   "cell_type": "markdown",
   "metadata": {
    "deletable": true,
    "editable": true
   },
   "source": [
    "<a id='occsoc3d'></a>\n",
    "## Distribution of Records by Occupation and Social Grade\n",
    "<a href='#overview'  style=\"font-size:10px;\">Back to top</a>"
   ]
  },
  {
   "cell_type": "code",
   "execution_count": null,
   "metadata": {
    "collapsed": false,
    "deletable": true,
    "editable": true
   },
   "outputs": [],
   "source": [
    "plot3d(occ_soc.size(), occupation_list_readable, socialGrade_list_readable,\n",
    "       \"Distribution of Records by Occupation and Social Grade\")"
   ]
  },
  {
   "cell_type": "markdown",
   "metadata": {
    "deletable": true,
    "editable": true
   },
   "source": [
    "<a id='conclusion'></a>\n",
    "# Conclusion\n",
    "In conclusion, this project satisfies all the given specification and tackles many of the provided extensions. Much time was spent on plotting and the use of widgets. This allows the user to easily generate more plots. \n",
    "The most challenging part of this practical was finding the correct functions and syntax of functions for a specific pandas or matplotlib problem we were facing.  \n",
    "There are warnings generated by our code regarding the use of plots with tight_layout as well as the use of one deprecated function *axes.color_cycle()*. As these warnings do not affect the functionality, code was added to ignore them for cleanliness of the jupyter notebook.\n",
    "\n",
    "<a href='#overview'  style=\"font-size:10px;\">Back to top</a>"
   ]
  }
 ],
 "metadata": {
  "kernelspec": {
   "display_name": "Python 3",
   "language": "python",
   "name": "python3"
  },
  "language_info": {
   "codemirror_mode": {
    "name": "ipython",
    "version": 3
   },
   "file_extension": ".py",
   "mimetype": "text/x-python",
   "name": "python",
   "nbconvert_exporter": "python",
   "pygments_lexer": "ipython3",
   "version": "3.5.3"
  }
 },
 "nbformat": 4,
 "nbformat_minor": 2
}
