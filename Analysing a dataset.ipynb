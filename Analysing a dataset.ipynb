{
 "cells": [
  {
   "cell_type": "markdown",
   "metadata": {
    "deletable": true,
    "editable": true
   },
   "source": [
    "# Imports"
   ]
  },
  {
   "cell_type": "code",
   "execution_count": null,
   "metadata": {
    "collapsed": false,
    "deletable": true,
    "editable": true,
    "scrolled": false
   },
   "outputs": [],
   "source": [
    "import csv\n",
    "from pandas import DataFrame, read_csv\n",
    "import pandas as pd\n",
    "import matplotlib.pyplot as plt\n",
    "from textwrap import wrap\n",
    "import numpy as np\n",
    "from __future__ import print_function\n",
    "from ipywidgets import interact, interactive, fixed, interact_manual, Layout\n",
    "import ipywidgets as widgets\n",
    "import traitlets\n",
    "from IPython.display import display, HTML\n",
    "from matplotlib import rcParams\n",
    "rcParams.update({'figure.autolayout': True})\n",
    "from mpl_toolkits.mplot3d import Axes3D\n",
    "\n",
    "output_file_path = \"output.csv\"\n",
    "input_file_path = \"census2011.csv\""
   ]
  },
  {
   "cell_type": "markdown",
   "metadata": {
    "deletable": true,
    "editable": true
   },
   "source": [
    "# Declarations\n",
    "## Lists of values - coded"
   ]
  },
  {
   "cell_type": "code",
   "execution_count": null,
   "metadata": {
    "collapsed": true,
    "deletable": true,
    "editable": true,
    "scrolled": true
   },
   "outputs": [],
   "source": [
    "region_list =           [\"E12000001\", \"E12000002\", \"E12000003\", \"E12000004\", \"E12000005\", \"E12000006\", \"E12000007\", \"E12000008\", \"E12000009\", \"W92000004\"]\n",
    "residence_list =        ['C', 'H']\n",
    "family_list =           [1, 2, 3, 4, 5, 6, -9]\n",
    "population_list =       [1, 2, 3]\n",
    "sex_list =              [1, 2]\n",
    "age_list =              [1, 2, 3, 4, 5, 6, 7, 8]\n",
    "marital_list =          [1, 2, 3, 4, 5]\n",
    "student_list =          [1, 2]\n",
    "country_list =          [1, 2, -9]\n",
    "health_list =           [1, 2, 3, 4, 5, -9]\n",
    "ethnic_list =           [1, 2, 3, 4, 5, -9]\n",
    "religion_list =         [1, 2, 3, 4, 5, 6, 7, 8, 9, -9]\n",
    "economic_list =         [1, 2, 3, 4, 5, 6, 7, 8, 9, -9]\n",
    "occupation_list =       [1, 2, 3, 4, 5, 6, 7, 8, 9, -9]\n",
    "industry_list =         [1, 2, 3, 4, 5, 6, 7, 8, 9, 10, 11, 12, -9]\n",
    "hours_list =            [1, 2, 3, 4, -9]\n",
    "socialGrade_list =      [1, 2, 3, 4, -9]\n",
    "test_list =             [1, 2, 3, 4]"
   ]
  },
  {
   "cell_type": "markdown",
   "metadata": {
    "deletable": true,
    "editable": true
   },
   "source": [
    "## Lists of values - human readable"
   ]
  },
  {
   "cell_type": "code",
   "execution_count": null,
   "metadata": {
    "collapsed": true,
    "deletable": true,
    "editable": true
   },
   "outputs": [],
   "source": [
    "region_list_readable =          [\"North East\", \"North West\", \"Yorkshire and the Humber\", \"East Midlands\", \"West Midlands\", \"East of England\", \"London\", \"South East\", \"South West\", \"Wales\"]\n",
    "residence_list_readable =       ['Resident in a communal establishment', 'Not resident in a communal establishment']\n",
    "family_list_readable =          [\"Not in a family\", \"Married/same-sex civil partnership couple family\", \"Cohabiting couple family\", \"Lone parent family (male head)\", \"Lone parent family (female head)\", \"Other related family\", \"No code required\"]\n",
    "population_list_readable =      [\"Usual resident\", \"Student living away from home during term-time\", \"Short-term resident\"]\n",
    "sex_list_readable =             [\"Male\", \"Female\"]\n",
    "age_list_readable =             [\"0 - 15\", \"16 - 24\", \"25 - 34\", \"35 - 44\", \"45 - 54\", \"55 - 64\", \"65 - 74\", \"75+\"]\n",
    "marital_list_readable =         [\"Single\", \"Married or in registered same-sex civil partnership\", \"Separated but still legally married/still legally in a same-sex civil partnership\", \"Divorced or formerly in a same-sex civil partnership which is now legally dissolved\", \"Widowed or surviving partner from a same-sex civil partnership\"]\n",
    "student_list_readable =         [\"Yes\", \"No\"]\n",
    "country_list_readable =         [\"UK\", \"Non UK\", \"No code required\"]\n",
    "health_list_readable =          [\"Very good health\", \"Good health\", \"Fair health\", \"Bad health\", \"Very bad health\", \"No code required\"]\n",
    "ethnic_list_readable =          [\"White\", \"Mixed\", \"Asian and Asian British\", \"Black or Black British\", \"Chinese or other ethnic group\", \"No code required\"]\n",
    "religion_list_readable =        [\"No religion\", \"Christian\", \"BuddhistEconomically\", \"Hindu\", \"Jewish\", \"Muslim\", \"Sikh\", \"Other religion\", \"Not stated\", \"No code required\"]\n",
    "economic_list_readable =        [\"Economically active: Employee\", \"Economically active: Self-employed\", \"Economically active: Unemployed\", \"Economically active: Full-time student\", \"Economically inactive: Retired\", \"Economically inactive: Student\", \"Economically inactive: Looking after home or family\", \"Economically inactive: Long-term sick or disabled\", \"Economically inactive: Other\", \"No code required\"]\n",
    "occupation_list_readable =      [\"Managers, Directors and Senior Officials\", \"Professional Occupations\", \"Associate Professional and Technical Occupations\", \"Administrative and Secretarial Occupations\", \"Skilled Trades Occupations\", \"Caring, Leisure and Other Service Occupations\", \"Sales and Customer Service Occupations\", \"Process, Plan and Machine Operatives\", \"Elementary Occupations\", \"No code required\"]\n",
    "industry_list_readable =        [\"Agriculture, forestry and fishing\", \"Mining and quarrying; Manufacturing\", \"Construction\", \"Wholesale and retail trade; Repair of motor vehicles and motorycycles\", \"Accommodation and food service activities\", \"Transport and storage; Information and communication\", \"Financial and insurance activities; Intermediation\", \"Real estate activities; Professional, scientific and technical activities; Administrative and support service activities\", \"Public administration and defence; compulsory social security\", \"Education\", \"Human health and social work activities\", \"Other community, social and personal service activities; Private households employing domestic staff; Extra-territorial organisations and bodies\", \"No code required\"]\n",
    "hours_list_readable =           [\"Part-time: 15 or less hours\", \"Part-time 16 - 20 hours\", \"Full-time: 31 - 48 hours\", \"Full-time: 49+ hours\", \"No code required\"]\n",
    "socialGrade_list_readable =     [\"AB\", \"C1\", \"C2\", \"DE\", \"No code required\"]\n",
    "test_list_readable =            [\"One\", \"Two\", \"Three\", \"Four\"]"
   ]
  },
  {
   "cell_type": "markdown",
   "metadata": {
    "deletable": true,
    "editable": true
   },
   "source": [
    "## Varaible names to look for and analyze in the input file\n",
    "These form the header of the input file."
   ]
  },
  {
   "cell_type": "code",
   "execution_count": null,
   "metadata": {
    "collapsed": true,
    "deletable": true,
    "editable": true
   },
   "outputs": [],
   "source": [
    "personId = 'Person ID'\n",
    "region = 'Region'\n",
    "residence = 'Residence Type'\n",
    "family = 'Family Composition'\n",
    "population = 'Population Base'\n",
    "sex = 'Sex'\n",
    "age = 'Age'\n",
    "marital = 'Marital Status'\n",
    "student = 'Student'\n",
    "country = 'Country of Birth'\n",
    "health = 'Health'\n",
    "ethnic = 'Ethnic Group'\n",
    "religion = 'Religion'\n",
    "economic = 'Economic Activity'\n",
    "occupation = 'Occupation'\n",
    "industry = 'Industry'\n",
    "hours = 'Hours worked per week'\n",
    "socialGrade = 'Approximated Social Grade'\n",
    "test = 'test'  # Used to demonstrate the error notification when a column is missing."
   ]
  },
  {
   "cell_type": "markdown",
   "metadata": {
    "deletable": true,
    "editable": true
   },
   "source": [
    "## Lists for iterations"
   ]
  },
  {
   "cell_type": "code",
   "execution_count": null,
   "metadata": {
    "collapsed": true,
    "deletable": true,
    "editable": true
   },
   "outputs": [],
   "source": [
    "# Lists containing all the above for easy iterations.\n",
    "header_list = [region, residence, family, population, sex, age, marital, student,\n",
    "                country, health, ethnic, religion, economic, occupation, industry,\n",
    "                hours, socialGrade, test]\n",
    "\n",
    "variable_list = [region_list, residence_list, family_list, population_list, sex_list, age_list,\n",
    "                marital_list, student_list, country_list, health_list,\n",
    "                ethnic_list, religion_list, economic_list, occupation_list,\n",
    "                industry_list, hours_list, socialGrade_list, test_list]\n",
    "\n",
    "variable_list_readable = [region_list_readable, residence_list_readable,\n",
    "                family_list_readable, population_list_readable, sex_list_readable,\n",
    "                age_list_readable, marital_list_readable, student_list_readable,\n",
    "                country_list_readable, health_list_readable,ethnic_list_readable,\n",
    "                religion_list_readable, economic_list_readable, occupation_list_readable,\n",
    "                industry_list_readable, hours_list_readable, socialGrade_list_readable,\n",
    "                          test_list_readable]"
   ]
  },
  {
   "cell_type": "code",
   "execution_count": null,
   "metadata": {
    "collapsed": false,
    "deletable": true,
    "editable": true
   },
   "outputs": [],
   "source": [
    "dataSet = pd.read_csv(input_file_path, header=0)"
   ]
  },
  {
   "cell_type": "markdown",
   "metadata": {
    "deletable": true,
    "editable": true
   },
   "source": [
    "# Refine the DataSet"
   ]
  },
  {
   "cell_type": "code",
   "execution_count": null,
   "metadata": {
    "collapsed": false,
    "deletable": true,
    "editable": true
   },
   "outputs": [],
   "source": [
    "def refine_dataset(dataSet):\n",
    "    \"\"\"\n",
    "        Prints type of each variable in the dataSet as well as the occurences of\n",
    "        each unique value\n",
    "\n",
    "        :param DataFrame dataSet: The DataFrame to refine\n",
    "        :return: refined dataSet\n",
    "        :rtype: DataFrame\n",
    "    \"\"\"\n",
    "    #Drops rows with invalid number of variables\n",
    "    dataSet.dropna(how='any')\n",
    "\n",
    "    #Drop all duplicate personal IDs\n",
    "    dataSet.drop_duplicates(keep='first', inplace=True)  # Drop identical records.\n",
    "    dataSet.drop_duplicates(personId, keep=False, inplace=True)  # Drop records that have duplicate IDs.\n",
    "\n",
    "    for i in dataSet.ix[:, dataSet.columns != personId]:\n",
    "        try:\n",
    "            headerIndex = header_list.index(i)\n",
    "            currentList = variable_list[headerIndex]\n",
    "            dataSet = dataSet[dataSet[i].isin(currentList)]\n",
    "        except ValueError:  # When column i is not recognized.\n",
    "            dataSet.drop(i, axis=1, inplace=True)\n",
    "            print(\"Column ignored:\"+i)\n",
    "\n",
    "    #Write updated dataset to file.\n",
    "    dataSet.to_csv(output_file_path);\n",
    "\n",
    "    return dataSet\n",
    "\n",
    "dataSet = refine_dataset(dataSet)"
   ]
  },
  {
   "cell_type": "markdown",
   "metadata": {
    "deletable": true,
    "editable": true
   },
   "source": [
    "# Transform the coded values into human readable"
   ]
  },
  {
   "cell_type": "code",
   "execution_count": null,
   "metadata": {
    "collapsed": false,
    "deletable": true,
    "editable": true
   },
   "outputs": [],
   "source": [
    "def readable_data(dataSet):\n",
    "    \"\"\"\n",
    "        Takes dataSet and given two lists of data codes and equivalent readable\n",
    "        strings where a data code's index matches the readable index will\n",
    "        return a DataFrame where all codes have been replaced with their human\n",
    "        readable equivalent\n",
    "\n",
    "        :param DataFrame dataSet: The DataFrame to be made readable\n",
    "        :return: readable equivalent of given DataFrame\n",
    "        :rtype: DataFrame\n",
    "    \"\"\"\n",
    "    #Replaces data code with corresponding readable string\n",
    "    readableDataSet = dataSet.copy()\n",
    "\n",
    "    variables_contained = []  # Store the variables that the dataset contains.\n",
    "    for i in readableDataSet.ix[:, dataSet.columns != personId]:\n",
    "        variables_contained.append(i)\n",
    "        headerIndex = header_list.index(i)\n",
    "        currentList = variable_list[headerIndex]\n",
    "        currentReadableList = variable_list_readable[headerIndex]\n",
    "        readableDataSet[i].replace(currentList, currentReadableList, inplace = True)\n",
    "        \n",
    "    for var in header_list:\n",
    "        if var not in variables_contained:\n",
    "            print(\"Could not find \\'\" + var + \"\\' in input set.\")\n",
    "            \n",
    "    return readableDataSet\n",
    "\n",
    "readableDataSet = readable_data(dataSet)"
   ]
  },
  {
   "cell_type": "markdown",
   "metadata": {
    "deletable": true,
    "editable": true
   },
   "source": [
    "# Descriptive Analysis"
   ]
  },
  {
   "cell_type": "code",
   "execution_count": null,
   "metadata": {
    "collapsed": true,
    "deletable": true,
    "editable": true
   },
   "outputs": [],
   "source": [
    "def print_data_type(header_name):\n",
    "    \"\"\"\n",
    "        Determines and prints the type of a given variable.\n",
    "        Types recognized are 'number', 'range of numbers', or 'binary'.\n",
    "        Anything else is considered 'keywords'.\n",
    "        \n",
    "        :param String header_name: The name of the variable in the list of headers.\n",
    "    \"\"\"\n",
    "    readable_list = variable_list_readable[header_list.index(header_name)]\n",
    "    \n",
    "    isNumbers = True\n",
    "    for i in readable_list:\n",
    "        try:\n",
    "            float(i)\n",
    "        except:\n",
    "            isNumbers = False\n",
    "            \n",
    "    if isNumbers:\n",
    "        print(\"Data type numbers.\")\n",
    "        return\n",
    "            \n",
    "    isRanges = True\n",
    "    for i in range(len(readable_list)-2):\n",
    "        if is_range(readable_list[i]) == False:\n",
    "            isRanges = False\n",
    "            break\n",
    "        \n",
    "    if isRanges:  # Last element can be [x-y] or [x+]\n",
    "        s = readable_list[len(readable_list)-1]\n",
    "        if is_range(s) == False:\n",
    "            spl = s.split('+')\n",
    "            if len(spl) != 2:\n",
    "                isRanges = False\n",
    "            else:\n",
    "                if len(spl[1].strip()) != 0:  # The right of the plus should be empty.\n",
    "                    isRanges = False\n",
    "                else:\n",
    "                    try:\n",
    "                        float(spl[0])\n",
    "                    except:\n",
    "                        isRanges = False\n",
    "                \n",
    "    if isRanges:\n",
    "        print(\"Data type is ranges.\")\n",
    "        return\n",
    "        \n",
    "    if len(readable_list) == 2:\n",
    "        print(\"Data type is binary.\")\n",
    "        return\n",
    "    \n",
    "    print(\"Data type is keywords.\")\n",
    "    \n",
    "def is_range(string_to_check):\n",
    "    spl = string_to_check.split('-')\n",
    "    if len(spl) != 2:\n",
    "        return False\n",
    "    else:\n",
    "        try:\n",
    "            float(spl[0])\n",
    "            float(spl[1])\n",
    "            return True\n",
    "        except:\n",
    "            return False"
   ]
  },
  {
   "cell_type": "code",
   "execution_count": null,
   "metadata": {
    "collapsed": false,
    "deletable": true,
    "editable": true,
    "scrolled": true
   },
   "outputs": [],
   "source": [
    "def descriptive_analysis(dataSet):\n",
    "    \"\"\"\n",
    "        Prints the number of records in a dataSet\n",
    "        the type of each varaible\n",
    "        and the occurrences of each unique value\n",
    "        \n",
    "        :param DataFrame dataSet: The DataFrame to print stats for\n",
    "    \"\"\"\n",
    "    \n",
    "    print(\"\\nNumber of records: \" + str(len(dataSet)) + \"\\n\")\n",
    "    \n",
    "    #Seems janky but does the job,\n",
    "    #removes person from list (Does not have any effect on given dataSet)\n",
    "    droppedSet = dataSet.drop(personId, axis=1)\n",
    "    for headerName in droppedSet:\n",
    "        # Get group for current header\n",
    "        group = droppedSet.groupby(headerName)\n",
    "\n",
    "        # Print number of occurrences of each variable\n",
    "        print(group.size())\n",
    "        print_data_type(headerName)\n",
    "        print(\"\\n\")\n",
    "\n",
    "descriptive_analysis(readableDataSet)"
   ]
  },
  {
   "cell_type": "markdown",
   "metadata": {
    "deletable": true,
    "editable": true
   },
   "source": [
    "# Plots\n",
    "Also, a chunk of widgets code is appearing repeatedly with minor variations.\n",
    "Medium 2: All the plots use ipywidgets to control plot properties.\n",
    "\n",
    "## General plotting function"
   ]
  },
  {
   "cell_type": "code",
   "execution_count": null,
   "metadata": {
    "collapsed": false
   },
   "outputs": [],
   "source": [
    "def plot_distribution_by_header(dataSet, header, plt_type, *args):\n",
    "    \"\"\"\n",
    "        Takes dataSet and then plots the distribution of given header\n",
    "\n",
    "        :param DataFrame dataSet: The DataFrame to be plotted\n",
    "    \"\"\"\n",
    "    print(args)\n",
    "    hd = str(header)\n",
    "    pt = str(plt_type[0])\n",
    "    title = \"Distribution of \" + hd\n",
    "    for arg in args:\n",
    "        dataSet = (dataSet[dataSet[arg[0]].isin(arg[1])])\n",
    "    dataSet[hd].value_counts().plot(ax=maxis, kind=pt)\n",
    "    #plt.tight_layout()\n",
    "    plt.title(title, y=1.06)\n",
    "    if(pt == \"pie\"):\n",
    "        maxis.axis('equal')  # Equal aspect ratio ensures that pie is drawn as a circle.\n",
    "        maxis.axis('off')\n",
    "    else :\n",
    "        maxis.axis('auto')\n",
    "        maxis.axis('on')\n",
    "    plt.tight_layout()\n",
    "    plt.savefig('Visualisations/distribution_' + hd + '.png')\n",
    "    plt.show()"
   ]
  },
  {
   "cell_type": "markdown",
   "metadata": {},
   "source": [
    "## Plot the distribution of recrods for each region in a bar chart."
   ]
  },
  {
   "cell_type": "code",
   "execution_count": null,
   "metadata": {
    "collapsed": false,
    "deletable": true,
    "editable": true
   },
   "outputs": [],
   "source": [
    "mfig, maxis = plt.subplots()\n",
    "plot_distribution_by_header(readableDataSet, region, ('bar',), *[])"
   ]
  },
  {
   "cell_type": "markdown",
   "metadata": {
    "deletable": true,
    "editable": true
   },
   "source": [
    "## Plot the distribution of recrods for each occupation in a bar chart."
   ]
  },
  {
   "cell_type": "code",
   "execution_count": null,
   "metadata": {
    "collapsed": false
   },
   "outputs": [],
   "source": [
    "mfig, maxis = plt.subplots()\n",
    "plot_distribution_by_header(readableDataSet, occupation, ('bar',), *[])"
   ]
  },
  {
   "cell_type": "markdown",
   "metadata": {
    "deletable": true,
    "editable": true
   },
   "source": [
    "## Plot the distribution of recrods for each age group in a pie chart."
   ]
  },
  {
   "cell_type": "code",
   "execution_count": null,
   "metadata": {
    "collapsed": false
   },
   "outputs": [],
   "source": [
    "mfig, maxis = plt.subplots()\n",
    "plot_distribution_by_header(readableDataSet, age, ('pie',), *[])"
   ]
  },
  {
   "cell_type": "markdown",
   "metadata": {
    "deletable": true,
    "editable": true
   },
   "source": [
    "## Plot the distribution of recrods for each economic group in a pie chart."
   ]
  },
  {
   "cell_type": "code",
   "execution_count": null,
   "metadata": {
    "collapsed": false
   },
   "outputs": [],
   "source": [
    "mfig, maxis = plt.subplots()\n",
    "plot_distribution_by_header(readableDataSet, economic, ('pie',), *[])"
   ]
  },
  {
   "cell_type": "markdown",
   "metadata": {},
   "source": [
    "## Interactive ploting\n",
    "Here you can select which header to plot, the type of the plot, and you can also add filters."
   ]
  },
  {
   "cell_type": "code",
   "execution_count": null,
   "metadata": {
    "collapsed": false,
    "deletable": true,
    "editable": true,
    "scrolled": false
   },
   "outputs": [],
   "source": [
    "mfig, maxis = plt.subplots()\n",
    "\n",
    "allFilters = []\n",
    "allFilterSelections = []\n",
    "    \n",
    "def f(b):\n",
    "    \"\"\"\n",
    "        Called when \"Update\" is clicked. Clears previous and draws new plot. \n",
    "        Calls plot_distribution_by_header() with user selection.\n",
    "    \"\"\"\n",
    "    maxis.clear()\n",
    "    flts = []\n",
    "    for (f,s) in zip(allFilters, allFilterSelections):\n",
    "        flts.append((f.value, s.value))\n",
    "    plot_distribution_by_header(readableDataSet, headerSelector.value, pltSelector.value, *flts)\n",
    "\n",
    "def addFilt(b):\n",
    "    \"\"\"\n",
    "        Called when \"Add Filter\" is clicked. Adds 2 new Selectors to the Controls.\n",
    "    \"\"\"\n",
    "    filterHeaderSelector = widgets.Select(\n",
    "        options=header_list,\n",
    "        value=header_list[0],\n",
    "        description='Header to filter:')\n",
    "    filterValueSelector = widgets.SelectMultiple(\n",
    "        options=variable_list_readable[0],\n",
    "        value=[variable_list_readable[0][0]],\n",
    "        description='Filter:')\n",
    "    def handle_chose(sender):\n",
    "        i = header_list.index(filterHeaderSelector.value)\n",
    "        filterValueSelector.options=variable_list_readable[i]\n",
    "        filterValueSelector.value=[variable_list_readable[i][0]]\n",
    "        \n",
    "    filterHeaderSelector.observe(handle_chose, names='value')\n",
    "    allFilters.append(filterHeaderSelector)\n",
    "    allFilterSelections.append(filterValueSelector)\n",
    "    display(filterHeaderSelector, filterValueSelector)\n",
    "    \n",
    "caption = widgets.Label(\n",
    "    value='Plot Creator:',\n",
    "    layout=Layout(width='160px'))\n",
    "pltSelector = widgets.SelectMultiple(\n",
    "    options=[\"pie\", \"bar\"],\n",
    "    value=[\"pie\"],\n",
    "    description='Plot type Selector',)\n",
    "headerSelector = widgets.Select(\n",
    "    options=header_list,\n",
    "    value=header_list[0],\n",
    "    description='Header Selector',)\n",
    "addFilter = widgets.Button(description=\"Add Filter\")\n",
    "addFilter.on_click(addFilt)\n",
    "submit = widgets.Button(description=\"Update\")\n",
    "submit.on_click(f)\n",
    "\n",
    "display(caption, pltSelector, headerSelector, addFilter, submit)\n"
   ]
  },
  {
   "cell_type": "markdown",
   "metadata": {},
   "source": [
    "# WHAT DO WE NEED OF THE FOLLOWING?"
   ]
  },
  {
   "cell_type": "code",
   "execution_count": null,
   "metadata": {
    "collapsed": false,
    "deletable": true,
    "editable": true,
    "scrolled": false
   },
   "outputs": [],
   "source": [
    "##      1,        2,          3,        4,         5,         6,         7,       8\n",
    "## [\"0 - 15\", \"16 - 24\", \"25 - 34\", \"35 - 44\", \"45 - 54\", \"55 - 64\", \"65 - 74\", \"75+\"]\n",
    "%matplotlib notebook \n",
    "mfig, maxis = plt.subplots(figsize=(9, 7))\n",
    "\n",
    "def makeTitle(ageSelection):\n",
    "        if(len(ageSelection)==8):\n",
    "            return \"\"\n",
    "        if(len(ageSelection)>1):\n",
    "            return \" for the Ages \" + ageSelection[0] + \" to \" + ageSelection[-1]\n",
    "        else:\n",
    "            return \" for the Age \" + ageSelection[0]\n",
    "\n",
    "def plot_data_records_per_region(dataSet, startAgeGroup, endAgeGroup):\n",
    "    \"\"\"\n",
    "        Takes dataSet and plots regional distribution\n",
    "        of set in a bar chart\n",
    "\n",
    "        :param DataFrame dataSet: The DataFrame to be plotted\n",
    "    \"\"\"\n",
    "    ageSelection = []\n",
    "    for i in range(startAgeGroup, endAgeGroup+1):\n",
    "        ageSelection.append(age_list_readable[i-1])\n",
    "    (dataSet[dataSet.Age.isin(ageSelection)])[region].value_counts().plot(ax=maxis, kind='bar')\n",
    "    plt.ylabel(\"Number of Records (population)\")\n",
    "    plt.xlabel(\"Region\")\n",
    "    plt.title(\"Number of Records for each Region\" + makeTitle(ageSelection), y=1.02)\n",
    "    #plt.tight_layout()\n",
    "    plt.savefig('Visualisations/region_record_distribution.png')\n",
    "    plt.show()\n",
    "\n",
    "plot_data_records_per_region(readableDataSet, 1, 8)\n",
    "    \n",
    "def f(b):\n",
    "    maxis.clear()\n",
    "    plot_data_records_per_region(readableDataSet, slider.value[0], slider.value[1])\n",
    "    \n",
    "caption = widgets.Label(\n",
    "    value='Advanced Filter Settings:',\n",
    "    layout=Layout(width='160px'))\n",
    "checkBox = widgets.Checkbox(\n",
    "    value=True,\n",
    "    description = \"Disable Filter:\", \n",
    "    layout = Layout(positioning='right'))\n",
    "ageDesc = widgets.HTML(\n",
    "    value=\"1='0-15' &nbsp;&nbsp;&nbsp;&nbsp;2='16-24' &nbsp;&nbsp;3='25-34' &nbsp;&nbsp;4='35-44' <br>5='45-54'&nbsp;&nbsp; 6='55-64' &nbsp;&nbsp;7='65-74'&nbsp;&nbsp; 8='75+'\",\n",
    "    layout=Layout(width='900px', height='50px'))\n",
    "slider = widgets.IntRangeSlider(\n",
    "    description='Age Selection:',\n",
    "    value=[1, 8],\n",
    "    min=1,\n",
    "    max=8,\n",
    "    readout=True,\n",
    "    readout_format='x',)\n",
    "button = widgets.Button(\n",
    "    description=\"Update\",\n",
    "    )\n",
    "button.on_click(f)\n",
    "l1 = traitlets.link((checkBox, 'value'), (slider, 'disabled'))\n",
    "l2 = traitlets.link((checkBox, 'value'), (button, 'disabled'))\n",
    "display(caption, checkBox, ageDesc, slider, button)\n",
    "\n"
   ]
  },
  {
   "cell_type": "code",
   "execution_count": null,
   "metadata": {
    "collapsed": false,
    "deletable": true,
    "editable": true,
    "scrolled": false
   },
   "outputs": [],
   "source": [
    "%matplotlib notebook\n",
    "mfig, maxis = plt.subplots(figsize=(9, 7))\n",
    "\n",
    "def makeTitle(ageSelection):\n",
    "        if(len(ageSelection)==8):\n",
    "            return \"\"\n",
    "        if(len(ageSelection)>1):\n",
    "            return \" for the Ages \" + ageSelection[0] + \" to \" + ageSelection[-1]\n",
    "        else:\n",
    "            return \" for the Age \" + ageSelection[0]\n",
    "\n",
    "def plot_data_records_per_occupation(dataSet, startAgeGroup, endAgeGroup):\n",
    "    \"\"\"\n",
    "        Takes dataSet and plots occupational distribution\n",
    "        of set in a bar chart\n",
    "\n",
    "        :param DataFrame dataSet: The DataFrame to be plotted\n",
    "    \"\"\"\n",
    "    \n",
    "    ageSelection = []\n",
    "    for i in range(startAgeGroup, endAgeGroup+1):\n",
    "        ageSelection.append(age_list_readable[i-1])\n",
    "    (dataSet[dataSet.Age.isin(ageSelection)])[occupation].value_counts().plot(ax=maxis, kind='bar')\n",
    "    oldLabels = [ x.get_text() for x in maxis.get_xticklabels() ]\n",
    "    labels = [ '\\n'.join(wrap(l, 30)) for l in oldLabels ]\n",
    "    maxis.set_xticklabels(labels)\n",
    "    plt.ylabel(\"Number of Records (population)\")\n",
    "    plt.xlabel(\"Description of Occupation\")\n",
    "    plt.title(\"Number of Records for each Occupation\" + makeTitle(ageSelection), y=1.02)\n",
    "    #plt.tight_layout()\n",
    "    plt.savefig('Visualisations/occupation_record_distribution.png')\n",
    "    plt.show()\n",
    "\n",
    "plot_data_records_per_occupation(readableDataSet, 1, 8)\n",
    "\n",
    "def f(b):\n",
    "    maxis.clear()\n",
    "    plot_data_records_per_occupation(readableDataSet, slider.value[0], slider.value[1])\n",
    "    \n",
    "caption = widgets.Label(\n",
    "    value='Advanced Filter Settings:',\n",
    "    layout=Layout(width='160px'))\n",
    "checkBox = widgets.Checkbox(\n",
    "    value=True,\n",
    "    description = \"Disable Filter:\", \n",
    "    layout = Layout(positioning='right'))\n",
    "ageDesc = widgets.HTML(\n",
    "    value=\"1='0-15' &nbsp;&nbsp;&nbsp;&nbsp;2='16-24' &nbsp;&nbsp;3='25-34' &nbsp;&nbsp;4='35-44' <br>5='45-54'&nbsp;&nbsp; 6='55-64' &nbsp;&nbsp;7='65-74'&nbsp;&nbsp; 8='75+'\",\n",
    "    layout=Layout(width='900px', height='50px'))\n",
    "slider = widgets.IntRangeSlider(\n",
    "    description='Age Selection:',\n",
    "    value=[1, 8],\n",
    "    min=1,\n",
    "    max=8,\n",
    "    readout=True,\n",
    "    readout_format='x',)\n",
    "button = widgets.Button(\n",
    "    description=\"Update\",\n",
    "    )\n",
    "button.on_click(f)\n",
    "l1 = traitlets.link((checkBox, 'value'), (slider, 'disabled'))\n",
    "l2 = traitlets.link((checkBox, 'value'), (button, 'disabled'))\n",
    "display(caption, checkBox, ageDesc, slider, button)"
   ]
  },
  {
   "cell_type": "code",
   "execution_count": null,
   "metadata": {
    "collapsed": false,
    "deletable": true,
    "editable": true,
    "scrolled": false
   },
   "outputs": [],
   "source": [
    "%matplotlib notebook\n",
    "mfig, maxis = plt.subplots(figsize=(9, 7))\n",
    "\n",
    "def makeTitle(occSelection):\n",
    "        if(len(occSelection)==10):\n",
    "            return \"\"\n",
    "        if(len(occSelection)>1):\n",
    "            res = \" for the Occupations \"\n",
    "            for i in range(0,len(occSelection)):\n",
    "                if(i>0):\n",
    "                    res = res + \", \"\n",
    "                res = res + \"\\\"\" + occSelection[i] + \"\\\"\"\n",
    "            return res\n",
    "        else:\n",
    "            return \" for the Occupation \\\"\" + occSelection[0] + \"\\\"\"\n",
    "\n",
    "def plot_data_distribution_by_age(dataSet, occSelection):\n",
    "    \"\"\"\n",
    "        Takes dataSet and plots age distribution\n",
    "        of set in a pie chart\n",
    "\n",
    "        :param DataFrame dataSet: The DataFrame to be plotted\n",
    "    \"\"\"\n",
    "   \n",
    "    (dataSet[dataSet.Occupation.isin(occSelection)])[age].value_counts().plot(ax=maxis, kind='pie',  autopct='%1.0f%%', pctdistance=0.8)\n",
    "    title_str = '\\n'.join(wrap((\"Distribution of Sample by Age\" + makeTitle(occSelection)), 100))\n",
    "    plt.title(title_str, y=1.02)\n",
    "    plt.ylabel(\"\")\n",
    "    plt.tight_layout()\n",
    "    maxis.axis('equal')  # Equal aspect ratio ensures that pie is drawn as a circle.\n",
    "    plt.savefig('Visualisations/age_record_distribution.png')\n",
    "    plt.show()\n",
    "\n",
    "plot_data_distribution_by_age(readableDataSet, occupation_list_readable)\n",
    "\n",
    "def f(b):\n",
    "    maxis.clear()\n",
    "    plot_data_distribution_by_age(readableDataSet, occupationSelector.value)\n",
    "    \n",
    "caption = widgets.Label(\n",
    "    value='Advanced Filter Settings:',\n",
    "    layout=Layout(width='160px'))\n",
    "checkBox = widgets.Checkbox(\n",
    "    value=True,\n",
    "    description = \"Disable Filter:\", \n",
    "    layout = Layout(positioning='right'))\n",
    "occupationSelector = widgets.SelectMultiple(\n",
    "    options=occupation_list_readable,\n",
    "    value=['Managers, Directors and Senior Officials'],\n",
    "    description='Occupations',\n",
    ")\n",
    "button = widgets.Button(\n",
    "    description=\"Update\",)\n",
    "button.on_click(f)\n",
    "l1 = traitlets.link((checkBox, 'value'), (occupationSelector, 'disabled'))\n",
    "l2 = traitlets.link((checkBox, 'value'), (button, 'disabled'))\n",
    "display(caption, checkBox, occupationSelector, button)"
   ]
  },
  {
   "cell_type": "code",
   "execution_count": null,
   "metadata": {
    "collapsed": false,
    "deletable": true,
    "editable": true
   },
   "outputs": [],
   "source": [
    "import mpld3\n",
    "\n",
    "%matplotlib notebook\n",
    "mfig, maxis = plt.subplots(figsize=(9, 7))\n",
    "\n",
    "def makeTitle(marSelection):\n",
    "        if(len(marSelection)==5):\n",
    "            return \"\"\n",
    "        if(len(marSelection)>1):\n",
    "            res = \" for the Marital Statuses \"\n",
    "            for i in range(0,len(marSelection)):\n",
    "                if(i>0):\n",
    "                    res = res + \", \"\n",
    "                res = res + \"\\\"\" + marSelection[i] + \"\\\"\"\n",
    "            return res\n",
    "        else:\n",
    "            return \" for the Marital Status \\\"\" + marSelection[0] + \"\\\"\"\n",
    "\n",
    "def plot_data_distribution_by_ec_activity(dataSet, marSelection):\n",
    "    \"\"\"\n",
    "        Takes dataSet and plots distribution of economic activity\n",
    "        of set in a pie chart\n",
    "\n",
    "        :param DataFrame dataSet: The DataFrame to be plotted\n",
    "    \"\"\"\n",
    "    pie = (dataSet.loc[dataSet['Marital Status'].isin(marSelection)])[economic].value_counts().plot(ax=maxis, kind='pie',  autopct='%1.0f%%', pctdistance=0.8)\n",
    "    title_str = '\\n'.join(wrap((\"Distribution of Sample by Economic Activity\" + makeTitle(marSelection)), 100))\n",
    "    plt.title(title_str, y=1.02)\n",
    "    plt.ylabel(\"\")\n",
    "    maxis.axis('equal')  # Equal aspect ratio ensures that pie is drawn as a circle.\n",
    "    plt.savefig('Visualisations/economic_record_distribution.png', bbox_inches='tight')\n",
    "    \n",
    "    # still working on this tooltip thing\n",
    "    tooltip = mpld3.plugins.PointLabelTooltip(pie, labels=economic_list_readable)\n",
    "    mpld3.plugins.connect(mfig, tooltip)\n",
    "    mpld3.enable_notebook()\n",
    "    #plt.show()\n",
    "\n",
    "plot_data_distribution_by_ec_activity(readableDataSet, marital_list_readable)\n",
    "\n",
    "def f(b):\n",
    "    maxis.clear()\n",
    "    plot_data_distribution_by_ec_activity(readableDataSet, maritialSelector.value)\n",
    "    \n",
    "caption = widgets.Label(\n",
    "    value='Advanced Filter Settings:',\n",
    "    layout=Layout(width='160px'))\n",
    "checkBox = widgets.Checkbox(\n",
    "    value=True,\n",
    "    description = \"Disable Filter:\", \n",
    "    layout = Layout(positioning='right'))\n",
    "maritialSelector = widgets.SelectMultiple(\n",
    "    options=marital_list_readable,\n",
    "    value=[marital_list_readable[0]],\n",
    "    description='Marital Status',\n",
    ")\n",
    "button = widgets.Button(\n",
    "    description=\"Update\",)\n",
    "button.on_click(f)\n",
    "l1 = traitlets.link((checkBox, 'value'), (maritialSelector, 'disabled'))\n",
    "l2 = traitlets.link((checkBox, 'value'), (button, 'disabled'))\n",
    "display(caption, checkBox, maritialSelector, button)"
   ]
  },
  {
   "cell_type": "markdown",
   "metadata": {},
   "source": [
    "# IS THIS EASY 2?\n",
    "## Can we write it with the general plotter?"
   ]
  },
  {
   "cell_type": "code",
   "execution_count": null,
   "metadata": {
    "collapsed": false,
    "deletable": true,
    "editable": true,
    "scrolled": false
   },
   "outputs": [],
   "source": [
    "%matplotlib notebook\n",
    "mfig, maxis = plt.subplots(figsize=(9, 7))\n",
    "\n",
    "def makeTitle(cobSelection):\n",
    "        if(len(cobSelection)==3):\n",
    "            return \"\"\n",
    "        if(len(cobSelection)>1):\n",
    "            res = \" for the Countries of Birth \"\n",
    "            for i in range(0,len(cobSelection)):\n",
    "                if(i>0):\n",
    "                    res = res + \", \"\n",
    "                res = res + \"\\\"\" + cobSelection[i] + \"\\\"\"\n",
    "            return res\n",
    "        else:\n",
    "            return \" for the Country of Birth \\\"\" + cobSelection[0] + \"\\\"\"\n",
    "\n",
    "def plot_ec_activity_by_region(dataSet, cobSelection):\n",
    "    \"\"\"\n",
    "        Takes dataSet and plots distribution of economic activity,\n",
    "        by region, of set in a pie chart\n",
    "\n",
    "        :param DataFrame dataSet: The DataFrame to be plotted\n",
    "    \"\"\"\n",
    "    dataSet = dataSet.loc[dataSet[economic] == economic_list_readable[0]]\n",
    "    (dataSet.loc[dataSet['Country of Birth'].isin(cobSelection)])[region].value_counts().plot(ax=maxis, kind='pie',  autopct='%1.0f%%', pctdistance=0.8)\n",
    "    title_str = '\\n'.join(wrap((\"Distribution of Economically Active People by Region\" + makeTitle(cobSelection)), 100))\n",
    "    plt.title(title_str, y=1.02)\n",
    "    plt.ylabel(\"\")\n",
    "    plt.tight_layout()\n",
    "    maxis.axis('equal')  # Equal aspect ratio ensures that pie is drawn as a circle.\n",
    "    plt.savefig('Visualisations/economic_record_distribution_by_region.png')\n",
    "    plt.show()\n",
    "\n",
    "plot_ec_activity_by_region(readableDataSet, country_list_readable)\n",
    "\n",
    "def f(b):\n",
    "    maxis.clear()\n",
    "    plot_ec_activity_by_region(readableDataSet, cobSelector.value)\n",
    "    \n",
    "caption = widgets.Label(\n",
    "    value='Advanced Filter Settings:',\n",
    "    layout=Layout(width='160px'))\n",
    "checkBox = widgets.Checkbox(\n",
    "    value=True,\n",
    "    description = \"Disable Filter:\", \n",
    "    layout = Layout(positioning='right'))\n",
    "cobSelector = widgets.SelectMultiple(\n",
    "    options=country_list_readable,\n",
    "    value=[country_list_readable[0]],\n",
    "    description='Country of Birth',\n",
    ")\n",
    "button = widgets.Button(\n",
    "    description=\"Update\",)\n",
    "button.on_click(f)\n",
    "l1 = traitlets.link((checkBox, 'value'), (cobSelector, 'disabled'))\n",
    "l2 = traitlets.link((checkBox, 'value'), (button, 'disabled'))\n",
    "display(caption, checkBox, cobSelector, button)"
   ]
  },
  {
   "cell_type": "code",
   "execution_count": null,
   "metadata": {
    "collapsed": false,
    "deletable": true,
    "editable": true
   },
   "outputs": [],
   "source": [
    "%matplotlib notebook\n",
    "mfig, maxis = plt.subplots(figsize=(9, 7))\n",
    "\n",
    "def makeTitle(famSelection):\n",
    "        if(len(famSelection)==7):\n",
    "            return \"\"\n",
    "        if(len(famSelection)>1):\n",
    "            res = \" for the Family Compositions \"\n",
    "            for i in range(0,len(famSelection)):\n",
    "                if(i>0):\n",
    "                    res = res + \", \"\n",
    "                res = res + \"\\\"\" + famSelection[i] + \"\\\"\"\n",
    "            return res\n",
    "        else:\n",
    "            return \" for the Family Composition \\\"\" + famSelection[0] + \"\\\"\"\n",
    "\n",
    "def plot_ec_activity_by_age(dataSet, famSelection):\n",
    "    \"\"\"\n",
    "        Takes dataSet and plots distribution of economic activity,\n",
    "        by age, of set in a pie chart\n",
    "\n",
    "        :param DataFrame dataSet: The DataFrame to be plotted\n",
    "    \"\"\"\n",
    "    dataSet = dataSet.loc[dataSet[economic] == economic_list_readable[0]]\n",
    "    (dataSet.loc[dataSet['Family Composition'].isin(famSelection)])[age].value_counts().plot(ax=maxis, kind='pie',  autopct='%1.0f%%', pctdistance=0.8)\n",
    "    title_str = '\\n'.join(wrap((\"Distribution of Economically Active People by Age\" + makeTitle(famSelection)), 100))\n",
    "    plt.title(title_str, y=1.02)\n",
    "    plt.ylabel(\"\")\n",
    "    plt.tight_layout()\n",
    "    maxis.axis('equal')  # Equal aspect ratio ensures that pie is drawn as a circle.\n",
    "    plt.savefig('Visualisations/economic_record_distribution_by_age.png')\n",
    "    plt.show()\n",
    "\n",
    "plot_ec_activity_by_age(readableDataSet, family_list_readable)\n",
    "\n",
    "def f(b):\n",
    "    maxis.clear()\n",
    "    plot_ec_activity_by_age(readableDataSet, famSelector.value)\n",
    "    \n",
    "caption = widgets.Label(\n",
    "    value='Advanced Filter Settings:',\n",
    "    layout=Layout(width='160px'))\n",
    "checkBox = widgets.Checkbox(\n",
    "    value=True,\n",
    "    description = \"Disable Filter:\", \n",
    "    layout = Layout(positioning='right'))\n",
    "famSelector = widgets.SelectMultiple(\n",
    "    options=family_list_readable,\n",
    "    value=[family_list_readable[0]],\n",
    "    description='Family Composition',\n",
    ")\n",
    "button = widgets.Button(\n",
    "    description=\"Update\",)\n",
    "button.on_click(f)\n",
    "l1 = traitlets.link((checkBox, 'value'), (famSelector, 'disabled'))\n",
    "l2 = traitlets.link((checkBox, 'value'), (button, 'disabled'))\n",
    "display(caption, checkBox, famSelector, button)"
   ]
  },
  {
   "cell_type": "code",
   "execution_count": null,
   "metadata": {
    "collapsed": false,
    "deletable": true,
    "editable": true,
    "scrolled": false
   },
   "outputs": [],
   "source": [
    "%matplotlib notebook\n",
    "mfig, maxis = plt.subplots(figsize=(9, 7))\n",
    "\n",
    "def makeTitle(famSelection):\n",
    "        if(len(famSelection)==7):\n",
    "            return \"\"\n",
    "        if(len(famSelection)>1):\n",
    "            res = \" for the Family Compositions \"\n",
    "            for i in range(0,len(famSelection)):\n",
    "                if(i>0):\n",
    "                    res = res + \", \"\n",
    "                res = res + \"\\\"\" + famSelection[i] + \"\\\"\"\n",
    "            return res\n",
    "        else:\n",
    "            return \" for the Family Composition \\\"\" + famSelection[0] + \"\\\"\"\n",
    "\n",
    "def plot_student_working_hours(dataSet, famSelection):\n",
    "    \"\"\"\n",
    "        Takes dataSet and plots distribution of working hours for\n",
    "        economically identified students\n",
    "\n",
    "        :param DataFrame dataSet: The DataFrame to be plotted\n",
    "    \"\"\"\n",
    "    economicStudentDataSet = dataSet[(dataSet[economic] == economic_list_readable[3])\n",
    "                      | (dataSet[economic] == economic_list_readable[5])]\n",
    "    \n",
    "    (dataSet.loc[dataSet['Family Composition'].isin(famSelection)])[hours].value_counts().plot(ax=maxis, kind='pie',  autopct='%1.0f%%', pctdistance=0.8)\n",
    "    plt.ylabel(\"\")\n",
    "    #plt.tight_layout()\n",
    "    title_str = '\\n'.join(wrap((\"Distribution of Working Hours of Students\" + makeTitle(famSelection)), 100))\n",
    "    plt.title(title_str, y=1.02)\n",
    "    maxis.axis('equal')  # Equal aspect ratio ensures that pie is drawn as a circle.\n",
    "    plt.savefig('Visualisations/student_working_hours.png', bbox_inches='tight')\n",
    "    plt.show()\n",
    "\n",
    "plot_student_working_hours(readableDataSet, family_list_readable)\n",
    "\n",
    "def f(b):\n",
    "    maxis.clear()\n",
    "    plot_student_working_hours(readableDataSet, famSelector.value)\n",
    "    \n",
    "caption = widgets.Label(\n",
    "    value='Advanced Filter Settings:',\n",
    "    layout=Layout(width='160px'))\n",
    "checkBox = widgets.Checkbox(\n",
    "    value=True,\n",
    "    description = \"Disable Filter:\", \n",
    "    layout = Layout(positioning='right'))\n",
    "famSelector = widgets.SelectMultiple(\n",
    "    options=family_list_readable,\n",
    "    value=[family_list_readable[0]],\n",
    "    description='Family Composition',\n",
    ")\n",
    "button = widgets.Button(\n",
    "    description=\"Update\",)\n",
    "button.on_click(f)\n",
    "l1 = traitlets.link((checkBox, 'value'), (famSelector, 'disabled'))\n",
    "l2 = traitlets.link((checkBox, 'value'), (button, 'disabled'))\n",
    "display(caption, checkBox, famSelector, button)"
   ]
  },
  {
   "cell_type": "code",
   "execution_count": null,
   "metadata": {
    "collapsed": false,
    "deletable": true,
    "editable": true
   },
   "outputs": [],
   "source": [
    "def print_student_discrepancies(dataSet):\n",
    "    \"\"\"\n",
    "        Takes dataSet and prints difference between student numbers\n",
    "        and student-based economic activity\n",
    "\n",
    "        :param DataFrame dataSet: The DataFrame to be plotted\n",
    "    \"\"\"\n",
    "    economicStudentDataSet = dataSet[(dataSet[economic] == economic_list_readable[3])\n",
    "                      | (dataSet[economic] == economic_list_readable[5])]\n",
    "\n",
    "    identifiedStudentDataSet = dataSet[dataSet[student] == student_list_readable[0]]\n",
    "    \n",
    "    sizeEconomic = len(identifiedStudentDataSet)\n",
    "    sizeStudent = len(economicStudentDataSet)\n",
    "\n",
    "    if(sizeEconomic > sizeStudent):\n",
    "        print(\"More economically identified students - discrepancy of \" + str(sizeEconomic - sizeStudent) + \" records.\")\n",
    "    elif(sizeEconomic < sizeStudent):\n",
    "        print(\"More student identified students - discrepancy of \" + str(sizeStudent - sizeEconomic) + \" records.\")\n",
    "    else:\n",
    "        print(\"No discrepancy found\")\n",
    "\n",
    "print_student_discrepancies(readableDataSet)"
   ]
  },
  {
   "cell_type": "markdown",
   "metadata": {
    "collapsed": true,
    "deletable": true,
    "editable": true
   },
   "source": [
    "# Easy 1"
   ]
  },
  {
   "cell_type": "markdown",
   "metadata": {
    "deletable": true,
    "editable": true
   },
   "source": [
    "## Table A - Region Industries Number_of_records"
   ]
  },
  {
   "cell_type": "code",
   "execution_count": null,
   "metadata": {
    "collapsed": false,
    "deletable": true,
    "editable": true
   },
   "outputs": [],
   "source": [
    "reg_ind = readableDataSet.groupby([region, industry])\n",
    "reg_ind.size()  # Does not produce full table. Prints '...' to avoid writing too much."
   ]
  },
  {
   "cell_type": "markdown",
   "metadata": {
    "deletable": true,
    "editable": true
   },
   "source": [
    "## Table B - Occupation Social_Grade Number_of_records"
   ]
  },
  {
   "cell_type": "code",
   "execution_count": null,
   "metadata": {
    "collapsed": false,
    "deletable": true,
    "editable": true
   },
   "outputs": [],
   "source": [
    "occ_soc = readableDataSet.groupby([occupation, socialGrade])\n",
    "occ_soc.size()"
   ]
  },
  {
   "cell_type": "markdown",
   "metadata": {
    "deletable": true,
    "editable": true
   },
   "source": [
    "# Medium 1: Function to build a 3D Plot"
   ]
  },
  {
   "cell_type": "code",
   "execution_count": null,
   "metadata": {
    "collapsed": true,
    "deletable": true,
    "editable": true
   },
   "outputs": [],
   "source": [
    "def plot3d(table, list1, list2, outputfilename):\n",
    "    \"\"\"\n",
    "        Produces a 3D Bar plot from the given table and saves it in a specified file.\n",
    "        \n",
    "        :param table list: a one diminsional list of values\n",
    "            it's length must be the product of the lengths of the next two arguments\n",
    "        :param list1 list: the values from this list will be put as ticks on the y-axis\n",
    "        :param list2 list: the values from this list will be put as ticks on the x-axis\n",
    "        :param outputfilename str: the path to the file where the produced figure should be saved\n",
    "    \"\"\"\n",
    "    # Deep copy and sort lists alphabetically\n",
    "    # because the tables provided by pandas are sorted this way.\n",
    "    l1s = [x for x in list1]\n",
    "    l1s.sort()\n",
    "    l1 = len(l1s)\n",
    "    l2s = [x for x in list2]\n",
    "    l2s.sort()\n",
    "    l2 = len(l2s)\n",
    "    \n",
    "    fig = plt.figure()\n",
    "    ax = fig.add_subplot(111, projection='3d')\n",
    "\n",
    "    for i in range(l1):  # Iterate the table in l1 chuncks of size l2.\n",
    "        ax.bar(range(l2), table[(i*l2):(i*l2+l2)], zs=i, zdir='y')\n",
    "\n",
    "    # Sets the number of ticks\n",
    "    plt.locator_params(axis='x', nticks=l2)\n",
    "    plt.locator_params(axis='y', nticks=l1)\n",
    "\n",
    "    # Assign and align tick labels.\n",
    "    ax.set_xticklabels(l2s, rotation=30, va='top', ha='right')\n",
    "    ax.set_yticklabels(l1s, rotation=-15, va='top', ha='left')\n",
    "\n",
    "    # Make the figure larger, so that all the labels fit.\n",
    "    fig.tight_layout()#pad=-60)\n",
    "\n",
    "    ax.set_zlabel(\"Number of records\")\n",
    "    # puts the Z labels on the left (switches two pairs of planes)\n",
    "    # from http://stackoverflow.com/questions/25068666/label-manipulation-for-3d-plot-using-matplotlib\n",
    "    tmp_planes = ax.zaxis._PLANES \n",
    "    ax.zaxis._PLANES = ( tmp_planes[2], tmp_planes[3], \n",
    "                         tmp_planes[0], tmp_planes[1], \n",
    "                         tmp_planes[4], tmp_planes[5])\n",
    "\n",
    "    fig.savefig(outputfilename, bbox_inches='tight')"
   ]
  },
  {
   "cell_type": "code",
   "execution_count": null,
   "metadata": {
    "collapsed": false,
    "deletable": true,
    "editable": true
   },
   "outputs": [],
   "source": [
    "plot3d(reg_ind.size(), region_list_readable, industry_list_readable,\n",
    "       \"Visualisations/region_industry_3d.png\")"
   ]
  },
  {
   "cell_type": "code",
   "execution_count": null,
   "metadata": {
    "collapsed": false,
    "deletable": true,
    "editable": true
   },
   "outputs": [],
   "source": [
    "plot3d(occ_soc.size(), occupation_list_readable, socialGrade_list_readable,\n",
    "       \"Visualisations/occupation_socialgrade_3d.png\")"
   ]
  },
  {
   "cell_type": "markdown",
   "metadata": {},
   "source": [
    "# WHAT DOES THIS DO?"
   ]
  },
  {
   "cell_type": "code",
   "execution_count": null,
   "metadata": {
    "collapsed": false,
    "deletable": true,
    "editable": true
   },
   "outputs": [],
   "source": [
    "res = [print(x) for x in range(10)]\n",
    "[print(x) for x in res]"
   ]
  },
  {
   "cell_type": "code",
   "execution_count": null,
   "metadata": {
    "collapsed": false,
    "deletable": true,
    "editable": true
   },
   "outputs": [],
   "source": [
    "x_widget = widgets.FloatSlider(min=0.0, max=10.0, step=0.05)\n",
    "y_widget = widgets.FloatSlider(min=0.5, max=10.0, step=0.05, value=5.0)\n",
    "\n",
    "def update_x_range(*args):\n",
    "    x_widget.max = 2.0 * y_widget.value\n",
    "y_widget.observe(update_x_range, 'value')\n",
    "\n",
    "def printer(x, y):\n",
    "    print(x, y)\n",
    "interact(printer,x=x_widget, y=y_widget);"
   ]
  },
  {
   "cell_type": "code",
   "execution_count": null,
   "metadata": {
    "collapsed": true,
    "deletable": true,
    "editable": true
   },
   "outputs": [],
   "source": []
  }
 ],
 "metadata": {
  "kernelspec": {
   "display_name": "Python 3",
   "language": "python",
   "name": "python3"
  },
  "language_info": {
   "codemirror_mode": {
    "name": "ipython",
    "version": 3
   },
   "file_extension": ".py",
   "mimetype": "text/x-python",
   "name": "python",
   "nbconvert_exporter": "python",
   "pygments_lexer": "ipython3",
   "version": "3.5.3"
  }
 },
 "nbformat": 4,
 "nbformat_minor": 2
}
