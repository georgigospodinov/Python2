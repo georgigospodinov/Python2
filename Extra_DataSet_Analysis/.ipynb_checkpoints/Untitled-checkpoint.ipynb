{
 "cells": [
  {
   "cell_type": "code",
   "execution_count": 1,
   "metadata": {
    "collapsed": true
   },
   "outputs": [],
   "source": [
    "import csv\n",
    "from pandas import DataFrame, read_csv\n",
    "import pandas as pd\n",
    "import matplotlib.pyplot as plt"
   ]
  },
  {
   "cell_type": "code",
   "execution_count": null,
   "metadata": {
    "collapsed": true
   },
   "outputs": [],
   "source": []
  },
  {
   "cell_type": "code",
   "execution_count": null,
   "metadata": {
    "collapsed": true
   },
   "outputs": [],
   "source": []
  },
  {
   "cell_type": "code",
   "execution_count": 2,
   "metadata": {
    "collapsed": true
   },
   "outputs": [],
   "source": [
    "def refine_dataset(dataSet):\n",
    "    \"\"\"\n",
    "        Prints type of each variable in the dataSet as well as the occurences of\n",
    "        each unique value\n",
    "\n",
    "        :param DataFrame dataSet: The DataFrame to refine\n",
    "        :return: refined dataSet\n",
    "        :rtype: DataFrame\n",
    "    \"\"\"\n",
    "    #Drops rows with invalid number of variables\n",
    "    dataSet.dropna(how='any')\n",
    "\n",
    "    #Write updated dataset to file (For sake of testing comment this out, it's quite slow)\n",
    "    dataSet.to_csv(output_file_path);\n",
    "\n",
    "    return dataSet"
   ]
  },
  {
   "cell_type": "code",
   "execution_count": 3,
   "metadata": {
    "collapsed": true
   },
   "outputs": [],
   "source": [
    "def descriptive_analysis(dataSet):\n",
    "    \"\"\"\n",
    "        Prints the number of records in a dataSet\n",
    "        the type of each varaible\n",
    "        and the occurrences of each unique value\n",
    "        \n",
    "        :param DataFrame dataSet: The DataFrame to print stats for\n",
    "    \"\"\"\n",
    "    \n",
    "    print(\"\\nNumber of records: \" + str(len(dataSet)) + \"\\n\")\n",
    "    \n",
    "    for headerName in dataSet:\n",
    "        # Get group for current header\n",
    "        group = dataSet.groupby(headerName)\n",
    "\n",
    "        # Print number of occurrences of each variable\n",
    "        print(group.size())\n",
    "        print_data_type(headerName)\n",
    "        print(\"\\n\")"
   ]
  },
  {
   "cell_type": "code",
   "execution_count": 4,
   "metadata": {
    "collapsed": true
   },
   "outputs": [],
   "source": [
    "def plot_pie_distribution_by_header(dataSet, header):\n",
    "    \"\"\"\n",
    "        Takes dataSet and plots distribution of given header\n",
    "\n",
    "        :param DataFrame dataSet: The DataFrame to be plotted\n",
    "    \"\"\"\n",
    "    %matplotlib notebook\n",
    "\n",
    "    fig, axis = plt.subplots()\n",
    "    \n",
    "    title = \"Distribution of \" + header\n",
    "    \n",
    "    filename = 'Visualisations/distribution' + (str.replace(\" \", \"_\")) + '.png'\n",
    "    \n",
    "    dataSet[header].value_counts().plot(ax=axis, kind='pie')\n",
    "    plt.ylabel(\"\")\n",
    "    plt.tight_layout()\n",
    "    plt.title(title, y=1.02)\n",
    "    axis.axis('equal')  # Equal aspect ratio ensures that pie is drawn as a circle.\n",
    "    plt.savefig(filename)\n",
    "    plt.show()"
   ]
  },
  {
   "cell_type": "code",
   "execution_count": null,
   "metadata": {
    "collapsed": true
   },
   "outputs": [],
   "source": [
    "data"
   ]
  }
 ],
 "metadata": {
  "kernelspec": {
   "display_name": "Python 3",
   "language": "python",
   "name": "python3"
  },
  "language_info": {
   "codemirror_mode": {
    "name": "ipython",
    "version": 3
   },
   "file_extension": ".py",
   "mimetype": "text/x-python",
   "name": "python",
   "nbconvert_exporter": "python",
   "pygments_lexer": "ipython3",
   "version": "3.5.3"
  }
 },
 "nbformat": 4,
 "nbformat_minor": 0
}
