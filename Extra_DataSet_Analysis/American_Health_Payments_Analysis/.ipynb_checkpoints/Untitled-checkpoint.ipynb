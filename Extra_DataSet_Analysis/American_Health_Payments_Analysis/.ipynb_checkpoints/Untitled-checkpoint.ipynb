{
 "cells": [
  {
   "cell_type": "code",
   "execution_count": 15,
   "metadata": {
    "collapsed": false
   },
   "outputs": [],
   "source": [
    "import csv\n",
    "from pandas import DataFrame, read_csv\n",
    "import pandas as pd\n",
    "import matplotlib.pyplot as plt\n",
    "from textwrap import wrap\n",
    "import numpy as np\n",
    "from __future__ import print_function\n",
    "from matplotlib import rcParams\n",
    "rcParams.update({'figure.autolayout': True})\n",
    "\n",
    "output_file_path = \"output.csv\"\n",
    "input_file_path = \"Inpatient_Prospective_Payment_System__IPPS__Provider_Summary_for_the_Top_100_Diagnosis-Related_Groups__DRG__-_FY2011.csv\""
   ]
  },
  {
   "cell_type": "code",
   "execution_count": 16,
   "metadata": {
    "collapsed": true
   },
   "outputs": [],
   "source": [
    "# Variable names in the input file.\n",
    "drgDef = 'DRG Definition'\n",
    "providerId = 'Provider Id'\n",
    "providerName = 'Provider Name'\n",
    "providerStreet = 'Provider Street Address'\n",
    "providerCity= 'Provider City'\n",
    "providerState = 'Provider State'\n",
    "providerZip = 'Provider Zip Code'\n",
    "hospRef = 'Hospital Referral Region Description'\n",
    "totalDischarges = 'Total Discharges'\n",
    "avgCovered = 'Average Covered Charges'\n",
    "avgTotal = 'Average Total Payments'\n",
    "avgMedicare = 'Average Medicare Payments'"
   ]
  },
  {
   "cell_type": "code",
   "execution_count": 17,
   "metadata": {
    "collapsed": true
   },
   "outputs": [],
   "source": [
    "header_list = [drgDef, providerId, providerName, providerStreet, providerCity,providerState, \n",
    "               providerZip, hospRef, totalDischarges, avgCovered, avgTotal, avgMedicare]"
   ]
  },
  {
   "cell_type": "code",
   "execution_count": 18,
   "metadata": {
    "collapsed": false
   },
   "outputs": [],
   "source": [
    "dataSet = pd.read_csv(input_file_path, header=0)"
   ]
  },
  {
   "cell_type": "code",
   "execution_count": 23,
   "metadata": {
    "collapsed": false
   },
   "outputs": [
    {
     "ename": "NameError",
     "evalue": "name 'variable_list' is not defined",
     "output_type": "error",
     "traceback": [
      "\u001b[1;31m---------------------------------------------------------------------------\u001b[0m",
      "\u001b[1;31mNameError\u001b[0m                                 Traceback (most recent call last)",
      "\u001b[1;32m<ipython-input-23-c5179660dae8>\u001b[0m in \u001b[0;36m<module>\u001b[1;34m()\u001b[0m\n\u001b[0;32m     21\u001b[0m     \u001b[1;32mreturn\u001b[0m \u001b[0mdataSet\u001b[0m\u001b[1;33m\u001b[0m\u001b[0m\n\u001b[0;32m     22\u001b[0m \u001b[1;33m\u001b[0m\u001b[0m\n\u001b[1;32m---> 23\u001b[1;33m \u001b[0mdataSet\u001b[0m \u001b[1;33m=\u001b[0m \u001b[0mrefine_dataset\u001b[0m\u001b[1;33m(\u001b[0m\u001b[0mdataSet\u001b[0m\u001b[1;33m)\u001b[0m\u001b[1;33m\u001b[0m\u001b[0m\n\u001b[0m",
      "\u001b[1;32m<ipython-input-23-c5179660dae8>\u001b[0m in \u001b[0;36mrefine_dataset\u001b[1;34m(dataSet)\u001b[0m\n\u001b[0;32m     13\u001b[0m     \u001b[1;32mfor\u001b[0m \u001b[0mi\u001b[0m \u001b[1;32min\u001b[0m \u001b[0mdataSet\u001b[0m\u001b[1;33m:\u001b[0m\u001b[1;33m\u001b[0m\u001b[0m\n\u001b[0;32m     14\u001b[0m         \u001b[0mheaderIndex\u001b[0m \u001b[1;33m=\u001b[0m \u001b[0mheader_list\u001b[0m\u001b[1;33m.\u001b[0m\u001b[0mindex\u001b[0m\u001b[1;33m(\u001b[0m\u001b[0mi\u001b[0m\u001b[1;33m)\u001b[0m\u001b[1;33m\u001b[0m\u001b[0m\n\u001b[1;32m---> 15\u001b[1;33m         \u001b[0mcurrentList\u001b[0m \u001b[1;33m=\u001b[0m \u001b[0mvariable_list\u001b[0m\u001b[1;33m[\u001b[0m\u001b[0mheaderIndex\u001b[0m\u001b[1;33m]\u001b[0m\u001b[1;33m\u001b[0m\u001b[0m\n\u001b[0m\u001b[0;32m     16\u001b[0m         \u001b[0mdataSet\u001b[0m \u001b[1;33m=\u001b[0m \u001b[0mdataSet\u001b[0m\u001b[1;33m[\u001b[0m\u001b[0mdataSet\u001b[0m\u001b[1;33m[\u001b[0m\u001b[0mi\u001b[0m\u001b[1;33m]\u001b[0m\u001b[1;33m.\u001b[0m\u001b[0misin\u001b[0m\u001b[1;33m(\u001b[0m\u001b[0mcurrentList\u001b[0m\u001b[1;33m)\u001b[0m\u001b[1;33m]\u001b[0m\u001b[1;33m\u001b[0m\u001b[0m\n\u001b[0;32m     17\u001b[0m \u001b[1;33m\u001b[0m\u001b[0m\n",
      "\u001b[1;31mNameError\u001b[0m: name 'variable_list' is not defined"
     ]
    }
   ],
   "source": [
    "def refine_dataset(dataSet):\n",
    "    \"\"\"\n",
    "        Prints type of each variable in the dataSet as well as the occurences of\n",
    "        each unique value\n",
    "\n",
    "        :param DataFrame dataSet: The DataFrame to refine\n",
    "        :return: refined dataSet\n",
    "        :rtype: DataFrame\n",
    "    \"\"\"\n",
    "    #Drops rows with invalid number of variables\n",
    "    dataSet.dropna(how='any')\n",
    "\n",
    "    #Write updated dataset to file (For sake of testing comment this out, it's quite slow)\n",
    "    dataSet.to_csv(output_file_path);\n",
    "\n",
    "    return dataSet\n",
    "\n",
    "dataSet = refine_dataset(dataSet)"
   ]
  },
  {
   "cell_type": "code",
   "execution_count": 22,
   "metadata": {
    "collapsed": false
   },
   "outputs": [
    {
     "ename": "NameError",
     "evalue": "name 'refine_dataSet' is not defined",
     "output_type": "error",
     "traceback": [
      "\u001b[1;31m---------------------------------------------------------------------------\u001b[0m",
      "\u001b[1;31mNameError\u001b[0m                                 Traceback (most recent call last)",
      "\u001b[1;32m<ipython-input-22-326aa2bdb028>\u001b[0m in \u001b[0;36m<module>\u001b[1;34m()\u001b[0m\n\u001b[1;32m----> 1\u001b[1;33m \u001b[0mrefine_dataSet\u001b[0m\u001b[1;33m(\u001b[0m\u001b[0mdataSet\u001b[0m\u001b[1;33m)\u001b[0m\u001b[1;33m\u001b[0m\u001b[0m\n\u001b[0m",
      "\u001b[1;31mNameError\u001b[0m: name 'refine_dataSet' is not defined"
     ]
    }
   ],
   "source": []
  },
  {
   "cell_type": "code",
   "execution_count": null,
   "metadata": {
    "collapsed": true
   },
   "outputs": [],
   "source": []
  }
 ],
 "metadata": {
  "kernelspec": {
   "display_name": "Python 3",
   "language": "python",
   "name": "python3"
  },
  "language_info": {
   "codemirror_mode": {
    "name": "ipython",
    "version": 3
   },
   "file_extension": ".py",
   "mimetype": "text/x-python",
   "name": "python",
   "nbconvert_exporter": "python",
   "pygments_lexer": "ipython3",
   "version": "3.5.3"
  }
 },
 "nbformat": 4,
 "nbformat_minor": 0
}
