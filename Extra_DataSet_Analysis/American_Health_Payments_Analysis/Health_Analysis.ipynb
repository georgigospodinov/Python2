{
 "cells": [
  {
   "cell_type": "markdown",
   "metadata": {
    "deletable": true,
    "editable": true
   },
   "source": [
    "# Overview\n",
    "This notebook is a short data analysis of the American Health Payments from 2011.<br>\n",
    "It is the hard extension that we have - analysing a similar data set.<br>\n",
    "Unfortunately, we could not find a file that specifies the values that each varaible may take. Therefor, we implemented an automatic determination for them. The process is very slow as it goes through all the values in each column and checks if it appears above.<br>\n",
    "The two lines that do that are left in the notebook but commented out. This way the user can see how to use the functions but running the notebook will not be slowed down. We have supplied the outputs of those functions in the files \"reformatted.csv\" and \"values.csv\".<br>"
   ]
  },
  {
   "cell_type": "markdown",
   "metadata": {
    "deletable": true,
    "editable": true
   },
   "source": [
    "# Imports"
   ]
  },
  {
   "cell_type": "code",
   "execution_count": null,
   "metadata": {
    "collapsed": false,
    "deletable": true,
    "editable": true
   },
   "outputs": [],
   "source": [
    "import csv\n",
    "from pandas import DataFrame, read_csv\n",
    "import pandas as pd\n",
    "import matplotlib.pyplot as plt\n",
    "from ipywidgets import interact, interactive, fixed, interact_manual, Layout\n",
    "import ipywidgets as widgets\n",
    "from IPython.display import display, HTML\n",
    "from textwrap import wrap\n",
    "import numpy as np\n",
    "from __future__ import print_function\n",
    "from matplotlib import rcParams\n",
    "rcParams.update({'figure.autolayout': True})\n",
    "import reformat as rf\n",
    "import determinevalues as dv\n",
    "import readvalues as rv"
   ]
  },
  {
   "cell_type": "markdown",
   "metadata": {
    "deletable": true,
    "editable": true
   },
   "source": [
    "# Constants"
   ]
  },
  {
   "cell_type": "code",
   "execution_count": null,
   "metadata": {
    "collapsed": false,
    "deletable": true,
    "editable": true
   },
   "outputs": [],
   "source": [
    "# Very slow operations, needed only once per file. Do not re-run every time.\n",
    "# rf.format_file()  # Converts money amounts into ranges. Takes 1 minute.\n",
    "# dv.determine()  # Determine the values that the variables can take. Takes about 90 minutes.\n",
    "\n",
    "output_file_path = \"output.csv\"\n",
    "input_file_path = \"reformatted.csv\"\n",
    "\n",
    "drgDef = 'DRG Definition'\n",
    "providerId = 'Provider Id'\n",
    "providerName = 'Provider Name'\n",
    "providerStreet = 'Provider Street Address'\n",
    "providerCity= 'Provider City'\n",
    "providerState = 'Provider State'\n",
    "providerZip = 'Provider Zip Code'\n",
    "hospRef = 'Hospital Referral Region Description'\n",
    "totalDischarges = ' Total Discharges '\n",
    "avgCovered = ' Average Covered Charges '\n",
    "avgTotal = ' Average Total Payments '\n",
    "avgMedicare = 'Average Medicare Payments'"
   ]
  },
  {
   "cell_type": "markdown",
   "metadata": {
    "deletable": true,
    "editable": true
   },
   "source": [
    "## List of headers and list of lists of possible values"
   ]
  },
  {
   "cell_type": "code",
   "execution_count": null,
   "metadata": {
    "collapsed": true,
    "deletable": true,
    "editable": true
   },
   "outputs": [],
   "source": [
    "header_list = [drgDef, providerId, providerName, providerStreet, providerCity,providerState, \n",
    "               providerZip, hospRef, totalDischarges, avgCovered, avgTotal, avgMedicare]\n",
    "variable_list = rv.get_values()"
   ]
  },
  {
   "cell_type": "markdown",
   "metadata": {
    "deletable": true,
    "editable": true
   },
   "source": [
    "# Read the data set from the input file"
   ]
  },
  {
   "cell_type": "code",
   "execution_count": null,
   "metadata": {
    "collapsed": false,
    "deletable": true,
    "editable": true
   },
   "outputs": [],
   "source": [
    "dataSet = pd.read_csv(input_file_path, header=0)"
   ]
  },
  {
   "cell_type": "markdown",
   "metadata": {
    "collapsed": false,
    "deletable": true,
    "editable": true
   },
   "source": [
    "# Data Refining\n",
    "Drops invalid rows."
   ]
  },
  {
   "cell_type": "code",
   "execution_count": null,
   "metadata": {
    "collapsed": false,
    "deletable": true,
    "editable": true
   },
   "outputs": [],
   "source": [
    "def refine_dataset(dataSet):\n",
    "    \"\"\"\n",
    "        Prints type of each variable in the dataSet as well as the occurences of\n",
    "        each unique value\n",
    "\n",
    "        :param DataFrame dataSet: The DataFrame to refine\n",
    "        :return: refined dataSet\n",
    "        :rtype: DataFrame\n",
    "    \"\"\"\n",
    "    #Drops rows with invalid number of variables\n",
    "    dataSet.dropna(how='any')\n",
    "\n",
    "    #Write updated dataset to file (For sake of testing comment this out, it's quite slow)\n",
    "    dataSet.to_csv(output_file_path);\n",
    "\n",
    "    return dataSet\n",
    "\n",
    "dataSet = refine_dataset(dataSet)"
   ]
  },
  {
   "cell_type": "markdown",
   "metadata": {
    "deletable": true,
    "editable": true
   },
   "source": [
    "# Basic Data Analysis"
   ]
  },
  {
   "cell_type": "code",
   "execution_count": null,
   "metadata": {
    "collapsed": false,
    "deletable": true,
    "editable": true,
    "scrolled": true
   },
   "outputs": [],
   "source": [
    "def descriptive_analysis(dataSet):\n",
    "    \"\"\"\n",
    "        Prints the number of records in a dataSet\n",
    "        the type of each varaible\n",
    "        and the occurrences of each unique value\n",
    "        \n",
    "        :param DataFrame dataSet: The DataFrame to print stats for\n",
    "    \"\"\"\n",
    "    \n",
    "    print(\"\\nNumber of records: \" + str(len(dataSet)) + \"\\n\")\n",
    "    \n",
    "    #Seems janky but does the job,\n",
    "    #removes person from list (Does not have any effect on given dataSet)\n",
    "    for headerName in dataSet:\n",
    "        # Get group for current header\n",
    "        group = dataSet.groupby(headerName)\n",
    "\n",
    "        # Print number of occurrences of each variable\n",
    "        print(group.size())\n",
    "        print(\"\\n\")\n",
    "\n",
    "descriptive_analysis(dataSet)"
   ]
  },
  {
   "cell_type": "markdown",
   "metadata": {
    "deletable": true,
    "editable": true
   },
   "source": [
    "# Data Plotting Method"
   ]
  },
  {
   "cell_type": "code",
   "execution_count": null,
   "metadata": {
    "collapsed": true,
    "deletable": true,
    "editable": true
   },
   "outputs": [],
   "source": [
    "# ensures plot will be shown in the jupyter notebook\n",
    "%matplotlib notebook \n",
    "\n",
    "def plot_distribution_by_header(dataSet, header, plt_type, title, axis, *args):\n",
    "    \"\"\"\n",
    "        Takes dataSet and then plots the distribution of given header\n",
    "\n",
    "        :param DataFrame dataSet: The DataFrame to be plotted\n",
    "        :param String header:     The header to plot\n",
    "        :param String plt_type:   The type of plot (eg. \"pie\", \"bar\", etc)\n",
    "        :param String title:      The plot title\n",
    "        :param Axis axis:         The matplotlib axis to use\n",
    "        :param *args              - each arg should be a touple of (filter_name, [filter_selection])\n",
    "    \"\"\"\n",
    "    hd = str(header)\n",
    "    pt = str(plt_type)\n",
    "    tt = '\\n'.join(wrap(str(title), 100))   # wrap long titles\n",
    "    \n",
    "    # filter dataset with filters provided in args\n",
    "    for arg in args:\n",
    "        dataSet = (dataSet[dataSet[arg[0]].isin(arg[1])])    \n",
    "    \n",
    "    # plot dataset and do per plot-type formatting\n",
    "    if(pt == \"pie\"):\n",
    "        dataSet[hd].value_counts().plot(ax=axis, kind=pt, autopct='%1.0f%%', pctdistance=0.8)\n",
    "                                            # plots with % labels on pie chart slices\n",
    "        axis.axis('equal')                  # Equal aspect ratio ensures that pie is drawn as a circle.\n",
    "        axis.axis('off')                    # switches axis labels off\n",
    "    if(pt == \"bar\") :\n",
    "        \n",
    "        dataSet[hd].value_counts().plot(ax=axis, kind=pt)\n",
    "        axis.axis('auto')                   # resets axis labels back to auto\n",
    "        axis.axis('on')\n",
    "        plt.xticks(rotation=65, ha='right') # sets rotation and offset\n",
    "        axis.set_xlabel(hd)\n",
    "        axis.set_ylabel(\"Number of Records\")\n",
    "    if(pt == \"hist\"):\n",
    "        n, bins, patches = plt.hist(dataSet[hd].value_counts(), 50, normed=1, facecolor='green', alpha=0.75)\n",
    "    \n",
    "    # adding padding beneath the plot title\n",
    "    plt.title(tt, y=1.06)\n",
    "    \n",
    "    # wrapping of long axis labels\n",
    "    oldXLabels = [ x.get_text() for x in axis.get_xticklabels() ]\n",
    "    xLabels = [ '\\n'.join(wrap(l, 30)) for l in oldXLabels ]\n",
    "    axis.set_xticklabels(xLabels)\n",
    "    \n",
    "    #plt.tight_layout()\n",
    "    \n",
    "    # saving figure to file - all spaces replaced with '_'\n",
    "    plt.savefig('Visualisations/' + title.replace(\" \", \"_\") + '.png', bbox_inches='tight')\n",
    "    \n",
    "    # show plot in notebook\n",
    "    plt.show()"
   ]
  },
  {
   "cell_type": "markdown",
   "metadata": {
    "deletable": true,
    "editable": true
   },
   "source": [
    "# Bar chart - Records by Provider State"
   ]
  },
  {
   "cell_type": "code",
   "execution_count": null,
   "metadata": {
    "collapsed": false,
    "deletable": true,
    "editable": true
   },
   "outputs": [],
   "source": [
    "fig, axis = plt.subplots(figsize=(9, 7))\n",
    "plot_distribution_by_header(dataSet, providerState, 'bar', \"Distribution of Records per Provider State\", axis)"
   ]
  },
  {
   "cell_type": "markdown",
   "metadata": {
    "deletable": true,
    "editable": true
   },
   "source": [
    "# Interactive Plotter\n",
    "This is essentially the same interactive plotter, adjusted for lists in this notebook."
   ]
  },
  {
   "cell_type": "code",
   "execution_count": null,
   "metadata": {
    "collapsed": false,
    "deletable": true,
    "editable": true,
    "scrolled": false
   },
   "outputs": [],
   "source": [
    "fig, axis = plt.subplots(figsize=(9, 7))\n",
    "\n",
    "# lists storing filter widgets\n",
    "filter_boxes = []\n",
    "filter_selector_widgets = []\n",
    "value_selector_widgets = []\n",
    "\n",
    "def makeTitle(header, *args):\n",
    "    \"\"\"\n",
    "        Function makes a human readable title from the header and filters provided. \n",
    "        Format:\n",
    "            \"Distribution of Records by <header> (for the <header> [<value>, ...] (and \n",
    "                the <header> [<value>, ...]), ...)\n",
    "        \n",
    "        :return: The title to put\n",
    "        :rtype: string\n",
    "    \"\"\"\n",
    "    ret = \"Distribution of Records by \" + header\n",
    "    a = 0\n",
    "    for arg in args:\n",
    "        i = header_list.index(arg[0])\n",
    "        allValues = variable_list[i]\n",
    "        if(len(arg[1]) > 0 and len(arg[1]) < len(allValues)):\n",
    "            if(a>0):\n",
    "                ret += \" and\"\n",
    "            else:\n",
    "                ret += \" for\"\n",
    "        if((len(arg[1]) > 1) and (len(arg[1]) < len(allValues))):\n",
    "            ret += \" the \" + arg[0] + \"[s] \"\n",
    "            i = 0\n",
    "            for item in arg[1]:\n",
    "                if(i>0):\n",
    "                    ret+= \",\"\n",
    "                ret += \" '\" + item + \"'\"\n",
    "                i += 1\n",
    "        elif(len(arg[1]) == 1):\n",
    "            ret += \" the \" + arg[0] + \" '\" + arg[1][0] + \"'\"\n",
    "        a += 1\n",
    "    return ret\n",
    "\n",
    "def update(b):\n",
    "    \"\"\"\n",
    "        Called when \"Update\" is clicked. Clears previous and draws new plot. \n",
    "        Calls plot_distribution_by_header() with user selection.\n",
    "    \"\"\"\n",
    "    axis.clear()\n",
    "    filters = []\n",
    "    for (f,s) in zip(filter_selector_widgets, value_selector_widgets):\n",
    "        filters.append((f.value, s.value))\n",
    "    plt_title = makeTitle(headerSelector.value, *filters);\n",
    "    try:\n",
    "        plot_distribution_by_header(dataSet, headerSelector.value, pltSelector.value, plt_title, axis, *filters)\n",
    "    except:\n",
    "        print(\"Plotting failed! Common error: conflicting filters!\")\n",
    "\n",
    "def removeFilter(b):\n",
    "    \"\"\"\n",
    "        Called when \"Remove Filter\" is clicked. Tries to remove the last \n",
    "        set of filters in the lists.\n",
    "    \"\"\"\n",
    "    try:\n",
    "        filter_selector_widgets[-1].close()\n",
    "        del filter_selector_widgets[-1]\n",
    "        value_selector_widgets[-1].close()\n",
    "        del value_selector_widgets[-1]\n",
    "        filter_boxes[-1].close()\n",
    "        del filter_boxes[-1]\n",
    "    except:\n",
    "        pass\n",
    "    \n",
    "def addFilter(b):\n",
    "    \"\"\"\n",
    "        Called when \"Add Filter\" is clicked. Adds 2 new Selectors to the Controls.\n",
    "    \"\"\"\n",
    "    \n",
    "    # selector widget to chose header\n",
    "    filter_selector_widget = widgets.Select(\n",
    "        options=header_list,\n",
    "        value=header_list[0],\n",
    "        description='Header to filter:')\n",
    "    \n",
    "    # multi-selector widget to chose values\n",
    "    value_selector_widget = widgets.SelectMultiple(\n",
    "        options=variable_list[0],\n",
    "        value=[variable_list[0][0]],\n",
    "        description='Filter:')\n",
    "    \n",
    "    # handler function which updates the value_selector_widget\n",
    "    def handle_chose(sender):\n",
    "        \"\"\"\n",
    "            Called when a value in filter_selector_widget is clicked. Updates the \n",
    "            value_selector_widget.\n",
    "        \"\"\"\n",
    "        i = header_list.index(filter_selector_widget.value)\n",
    "        value_selector_widget.options=variable_list[i]\n",
    "        value_selector_widget.value=[variable_list[i][0]]\n",
    "    \n",
    "    # register handler function\n",
    "    filter_selector_widget.observe(handle_chose, names='value')\n",
    "    \n",
    "    # make vertival box for formatting\n",
    "    filterControls = widgets.VBox([filter_selector_widget, value_selector_widget])\n",
    "    \n",
    "    # add widgets to list of all widgets\n",
    "    filter_selector_widgets.append(filter_selector_widget)\n",
    "    value_selector_widgets.append(value_selector_widget)\n",
    "    filter_boxes.append(filterControls)\n",
    "\n",
    "    # make new submit button and remove old ones\n",
    "    global submit_new\n",
    "    try:\n",
    "        submit_new.close()\n",
    "        submit.close()\n",
    "        submitControl.close()\n",
    "        submitControl_new.close()\n",
    "    except:\n",
    "        pass\n",
    "    \n",
    "    submit_new = widgets.Button(description=\"Update\")\n",
    "    submit_new.style.button_color = 'rosybrown'\n",
    "    submit_new.on_click(update)\n",
    "    submitControl_new = widgets.HBox([submit_new])\n",
    "    display(filterControls, submitControl_new)\n",
    "\n",
    "# control title\n",
    "caption = widgets.Label(\n",
    "    value='Interactive Plot Creator:',\n",
    "    layout=Layout(width='160px'))\n",
    "\n",
    "# plot type selector\n",
    "pltSelector = widgets.Select(\n",
    "    options=[\"pie\", \"bar\", \"hist\"],\n",
    "    value=\"pie\",\n",
    "    description='Plot Type:')\n",
    "\n",
    "# header selector\n",
    "headerSelector = widgets.Select(\n",
    "    options=header_list,\n",
    "    value=header_list[0],\n",
    "    layout=Layout(color='#000000'),\n",
    "    description='What to plot:')\n",
    "\n",
    "pltControls = widgets.VBox([caption, pltSelector, headerSelector])\n",
    "\n",
    "# 'add filter' button\n",
    "addFilterButton = widgets.Button(description=\"Add Filter\")\n",
    "addFilterButton.style.button_color = 'forestgreen'\n",
    "addFilterButton.on_click(addFilter)\n",
    "\n",
    "# 'remove filter' button\n",
    "removeFilterButton = widgets.Button(description=\"Remove Filter\")\n",
    "removeFilterButton.style.button_color = 'red'\n",
    "removeFilterButton.on_click(removeFilter)\n",
    "filterControls = widgets.HBox([addFilterButton, removeFilterButton])\n",
    "\n",
    "# 'submit' button\n",
    "submit = widgets.Button(description=\"Update\")\n",
    "submit.style.button_color = 'rosybrown'\n",
    "submit.on_click(update)\n",
    "submitControl = widgets.HBox([submit])\n",
    "\n",
    "# display widgets\n",
    "display(pltControls, filterControls, submitControl)"
   ]
  }
 ],
 "metadata": {
  "kernelspec": {
   "display_name": "Python 3",
   "language": "python",
   "name": "python3"
  },
  "language_info": {
   "codemirror_mode": {
    "name": "ipython",
    "version": 3
   },
   "file_extension": ".py",
   "mimetype": "text/x-python",
   "name": "python",
   "nbconvert_exporter": "python",
   "pygments_lexer": "ipython3",
   "version": "3.5.3"
  }
 },
 "nbformat": 4,
 "nbformat_minor": 0
}
