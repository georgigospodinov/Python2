{
 "cells": [
  {
   "cell_type": "code",
   "execution_count": null,
   "metadata": {
    "collapsed": false
   },
   "outputs": [],
   "source": [
    "import csv\n",
    "from pandas import DataFrame, read_csv\n",
    "import pandas as pd\n",
    "import matplotlib.pyplot as plt\n",
    "from textwrap import wrap\n",
    "import numpy as np\n",
    "from __future__ import print_function\n",
    "from matplotlib import rcParams\n",
    "rcParams.update({'figure.autolayout': True})\n",
    "\n",
    "output_file_path = \"output.csv\"\n",
    "input_file_path = \"Inpatient_Prospective_Payment_System__IPPS__Provider_Summary_for_the_Top_100_Diagnosis-Related_Groups__DRG__-_FY2011.csv\""
   ]
  },
  {
   "cell_type": "code",
   "execution_count": null,
   "metadata": {
    "collapsed": true
   },
   "outputs": [],
   "source": [
    "# Variable names in the input file.\n",
    "drgDef = 'DRG Definition'\n",
    "providerId = 'Provider Id'\n",
    "providerName = 'Provider Name'\n",
    "providerStreet = 'Provider Street Address'\n",
    "providerCity= 'Provider City'\n",
    "providerState = 'Provider State'\n",
    "providerZip = 'Provider Zip Code'\n",
    "hospRef = 'Hospital Referral Region Description'\n",
    "totalDischarges = 'Total Discharges'\n",
    "avgCovered = 'Average Covered Charges'\n",
    "avgTotal = 'Average Total Payments'\n",
    "avgMedicare = 'Average Medicare Payments'"
   ]
  },
  {
   "cell_type": "code",
   "execution_count": null,
   "metadata": {
    "collapsed": true
   },
   "outputs": [],
   "source": [
    "header_list = [drgDef, providerId, providerName, providerStreet, providerCity,providerState, \n",
    "               providerZip, hospRef, totalDischarges, avgCovered, avgTotal, avgMedicare]"
   ]
  },
  {
   "cell_type": "code",
   "execution_count": null,
   "metadata": {
    "collapsed": false
   },
   "outputs": [],
   "source": [
    "dataSet = pd.read_csv(input_file_path, header=0)"
   ]
  },
  {
   "cell_type": "code",
   "execution_count": null,
   "metadata": {
    "collapsed": false
   },
   "outputs": [],
   "source": [
    "def refine_dataset(dataSet):\n",
    "    \"\"\"\n",
    "        Prints type of each variable in the dataSet as well as the occurences of\n",
    "        each unique value\n",
    "\n",
    "        :param DataFrame dataSet: The DataFrame to refine\n",
    "        :return: refined dataSet\n",
    "        :rtype: DataFrame\n",
    "    \"\"\"\n",
    "    #Drops rows with invalid number of variables\n",
    "    dataSet.dropna(how='any')\n",
    "\n",
    "    #Write updated dataset to file (For sake of testing comment this out, it's quite slow)\n",
    "    dataSet.to_csv(output_file_path);\n",
    "\n",
    "    return dataSet\n",
    "\n",
    "dataSet = refine_dataset(dataSet)"
   ]
  },
  {
   "cell_type": "code",
   "execution_count": null,
   "metadata": {
    "collapsed": false
   },
   "outputs": [],
   "source": [
    "def descriptive_analysis(dataSet):\n",
    "    \"\"\"\n",
    "        Prints the number of records in a dataSet\n",
    "        the type of each varaible\n",
    "        and the occurrences of each unique value\n",
    "        \n",
    "        :param DataFrame dataSet: The DataFrame to print stats for\n",
    "    \"\"\"\n",
    "    \n",
    "    print(\"\\nNumber of records: \" + str(len(dataSet)) + \"\\n\")\n",
    "    \n",
    "    #Seems janky but does the job,\n",
    "    #removes person from list (Does not have any effect on given dataSet)\n",
    "    for headerName in dataSet:\n",
    "        # Get group for current header\n",
    "        group = dataSet.groupby(headerName)\n",
    "\n",
    "        # Print number of occurrences of each variable\n",
    "        print(group.size())\n",
    "        print(\"\\n\")\n",
    "\n",
    "descriptive_analysis(dataSet)"
   ]
  },
  {
   "cell_type": "code",
   "execution_count": null,
   "metadata": {
    "collapsed": false
   },
   "outputs": [],
   "source": [
    "def plot_pie_distribution_by_header(dataSet, header):\n",
    "    \"\"\"\n",
    "        Takes dataSet and plots distribution of given header\n",
    "\n",
    "        :param DataFrame dataSet: The DataFrame to be plotted\n",
    "    \"\"\"\n",
    "    %matplotlib notebook\n",
    "\n",
    "    fig, axis = plt.subplots()\n",
    "    \n",
    "    title = \"Distribution of \" + header\n",
    "    \n",
    "    dataSet[header].value_counts().plot(ax=axis, kind='pie')\n",
    "    plt.ylabel(\"\")\n",
    "    #plt.tight_layout()\n",
    "    plt.title(title, y=1.02)\n",
    "    axis.axis('equal')  # Equal aspect ratio ensures that pie is drawn as a circle.\n",
    "    plt.savefig('Visualisations/distribution.png')\n",
    "    plt.show()"
   ]
  },
  {
   "cell_type": "code",
   "execution_count": null,
   "metadata": {
    "collapsed": false
   },
   "outputs": [],
   "source": [
    "plot_pie_distribution_by_header(dataSet, drgDef)"
   ]
  },
  {
   "cell_type": "code",
   "execution_count": null,
   "metadata": {
    "collapsed": true
   },
   "outputs": [],
   "source": []
  }
 ],
 "metadata": {
  "kernelspec": {
   "display_name": "Python 3",
   "language": "python",
   "name": "python3"
  },
  "language_info": {
   "codemirror_mode": {
    "name": "ipython",
    "version": 3
   },
   "file_extension": ".py",
   "mimetype": "text/x-python",
   "name": "python",
   "nbconvert_exporter": "python",
   "pygments_lexer": "ipython3",
   "version": "3.5.3"
  }
 },
 "nbformat": 4,
 "nbformat_minor": 0
}
